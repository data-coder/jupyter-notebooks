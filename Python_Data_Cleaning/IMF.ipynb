{
 "cells": [
  {
   "cell_type": "markdown",
   "metadata": {},
   "source": [
    "International Monetary Fund API with Python\n",
    "=====\n",
    "\n",
    "## Brazil, Chile, and Colombia CPI inflation example\n",
    "\n",
    "*January 14, 2019*<br>\n",
    "*@bd_econ*\n",
    "\n",
    "-----\n",
    "\n",
    "I'd suggest first looking at my website's [guide](https://www.bd-econ.com/imfapi1.html) to using the IMF API. \n",
    "\n",
    "\n",
    "IMF API Documentation is [here](http://datahelp.imf.org/knowledgebase/articles/667681-json-restful-web-service)"
   ]
  },
  {
   "cell_type": "code",
   "execution_count": 8,
   "metadata": {
    "ExecuteTime": {
     "end_time": "2019-04-20T14:45:25.997689Z",
     "start_time": "2019-04-20T14:45:25.709102Z"
    }
   },
   "outputs": [],
   "source": [
    "# Python 3.7\n",
    "import requests\n",
    "import  pandas as pd\n",
    "#python\n"
   ]
  },
  {
   "cell_type": "markdown",
   "metadata": {},
   "source": [
    "#### Parameters/ Settings"
   ]
  },
  {
   "cell_type": "code",
   "execution_count": 2,
   "metadata": {
    "ExecuteTime": {
     "end_time": "2019-04-20T14:45:26.002578Z",
     "start_time": "2019-04-20T14:45:25.999386Z"
    }
   },
   "outputs": [],
   "source": [
    "\n",
    "url = 'http://dataservices.imf.org/REST/SDMX_JSON.svc/'\n",
    "param = [('dataset', 'IFS'),\n",
    "         ('freq', 'M'),\n",
    "         # Brazil, Chile, Colombia\n",
    "         ('country', 'BR+CL+CO'),\n",
    "         ('series', 'PCPI_IX'),\n",
    "         ('start', '?startPeriod=2009')]\n",
    "series = '.'.join([i[1] for i in param[1:4]])\n",
    "\n",
    "key = f'CompactData/{param[0][1]}/{series}{param[-1][1]}'"
   ]
  },
  {
   "cell_type": "markdown",
   "metadata": {},
   "source": [
    "#### Make request and convert to annual percent change"
   ]
  },
  {
   "cell_type": "code",
   "execution_count": 3,
   "metadata": {
    "ExecuteTime": {
     "end_time": "2019-04-20T14:45:26.717459Z",
     "start_time": "2019-04-20T14:45:26.003741Z"
    }
   },
   "outputs": [],
   "source": [
    "# Combine API url with key specific to data request\n",
    "r = requests.get(f'{url}{key}').json()\n",
    "# data portion of results\n",
    "data = r['CompactData']['DataSet']['Series']"
   ]
  },
  {
   "cell_type": "code",
   "execution_count": 4,
   "metadata": {},
   "outputs": [
    {
     "ename": "NameError",
     "evalue": "name 'i' is not defined",
     "output_type": "error",
     "traceback": [
      "\u001b[0;31m---------------------------------------------------------------------------\u001b[0m",
      "\u001b[0;31mNameError\u001b[0m                                 Traceback (most recent call last)",
      "\u001b[0;32m<ipython-input-4-397d543883c5>\u001b[0m in \u001b[0;36m<module>\u001b[0;34m\u001b[0m\n\u001b[0;32m----> 1\u001b[0;31m \u001b[0mi\u001b[0m\u001b[0;34m\u001b[0m\u001b[0;34m\u001b[0m\u001b[0m\n\u001b[0m",
      "\u001b[0;31mNameError\u001b[0m: name 'i' is not defined"
     ]
    }
   ],
   "source": [
    "i"
   ]
  },
  {
   "cell_type": "code",
   "execution_count": null,
   "metadata": {
    "ExecuteTime": {
     "end_time": "2019-04-20T14:45:26.740593Z",
     "start_time": "2019-04-20T14:45:26.725095Z"
    }
   },
   "outputs": [],
   "source": [
    "# Create pandas dataframe, column = country, row = obs\n",
    "df = pd.DataFrame({s['@REF_AREA']: # Each country/area\n",
    "                   {i['@TIME_PERIOD']: float(i['@OBS_VALUE']) \n",
    "                    for i in s['Obs']} for s in data})\n",
    "\n",
    "# Convert index to datetime\n",
    "df.index = pd.to_datetime(df.index)\n",
    "\n",
    "# Calculate inflation rate and drop empty rows\n",
    "df = (df.pct_change(12) * 100).round(1).dropna()"
   ]
  },
  {
   "cell_type": "markdown",
   "metadata": {},
   "source": [
    "#### Plot results"
   ]
  },
  {
   "cell_type": "code",
   "execution_count": null,
   "metadata": {
    "ExecuteTime": {
     "end_time": "2019-04-20T14:45:27.140509Z",
     "start_time": "2019-04-20T14:45:26.742166Z"
    }
   },
   "outputs": [],
   "source": [
    "%matplotlib inline\n",
    "import matplotlib\n",
    "from matplotlib import pyplot as plt\n",
    "matplotlib.rc('axes',edgecolor='w')\n",
    "\n",
    "ax = df.plot(title='Inflation rate (annual percent change in CPI)', \n",
    "             color=['blue', 'red', 'green'], legend=False)\n",
    "ax = plt.axhline(0, color='lightgray', lw=0.5, zorder=-1)\n",
    "ax = plt.scatter([df.index[-1]] * 3, df.iloc[-1].values, \n",
    "                 color=['blue', 'red', 'green'])\n",
    "for i, txt in enumerate(df.iloc[-1].values):\n",
    "    ax = plt.annotate(f'  {df.iloc[-1].index[i]}: {txt:.2}%', \n",
    "                      (df.index[-1], txt-0.25))\n",
    "ax = plt.annotate(f'{df.index[-1]:%b %Y}', \n",
    "                  (df.index[-1], df.iloc[-1].max() + 0.8), \n",
    "                  fontweight='bold')\n",
    "ax = plt.xlim(pd.to_datetime('2009-11-01'), pd.to_datetime('2020-01-01'))\n",
    "ax = plt.ylim(-1.95, 11.55)\n",
    "ax = plt.yticks([10, 5, 0], ['10%', '5', '0'])"
   ]
  },
  {
   "cell_type": "markdown",
   "metadata": {},
   "source": [
    "------\n",
    "\n",
    "## Metadata and param lookup examples"
   ]
  },
  {
   "cell_type": "markdown",
   "metadata": {},
   "source": [
    "#### Find available series by search term \"trade\""
   ]
  },
  {
   "cell_type": "code",
   "execution_count": null,
   "metadata": {
    "ExecuteTime": {
     "end_time": "2019-04-20T14:45:27.783774Z",
     "start_time": "2019-04-20T14:45:27.141925Z"
    }
   },
   "outputs": [],
   "source": [
    "key = 'Dataflow'  # Method with series information\n",
    "t = 'Trade'  # Term to find in series names\n",
    "sl = requests.get(f'{url}{key}').json()['Structure']['Dataflows']['Dataflow']\n",
    "# Print list of series containing text t\n",
    "for s in (s for s in sl if t in s['Name']['#text']): \n",
    "    code = s['KeyFamilyRef']['KeyFamilyID']\n",
    "    print(f\"{s['Name']['#text']}: {code}\")"
   ]
  },
  {
   "cell_type": "markdown",
   "metadata": {},
   "source": [
    "#### Print the dimensions for a given series, \"DOT\""
   ]
  },
  {
   "cell_type": "code",
   "execution_count": null,
   "metadata": {
    "ExecuteTime": {
     "end_time": "2019-04-20T14:45:27.923602Z",
     "start_time": "2019-04-20T14:45:27.785454Z"
    }
   },
   "outputs": [],
   "source": [
    "key = 'DataStructure/DOT'  # Method / series\n",
    "dl = requests.get(f'{url}{key}').json()\\\n",
    "    ['Structure']['KeyFamilies']['KeyFamily']['Components']['Dimension']\n",
    "for n, d in enumerate(dl):\n",
    "    print(f\"Dimension {n+1}: {d['@codelist']}\")"
   ]
  },
  {
   "cell_type": "markdown",
   "metadata": {},
   "source": [
    "#### See what values are acceptable for dimension \"CL_INDICATOR_DOT\""
   ]
  },
  {
   "cell_type": "code",
   "execution_count": null,
   "metadata": {
    "ExecuteTime": {
     "end_time": "2019-04-20T14:45:28.003483Z",
     "start_time": "2019-04-20T14:45:27.926168Z"
    }
   },
   "outputs": [],
   "source": [
    "# Example: codes for dimension 3\n",
    "key = f\"CodeList/{dl[2]['@codelist']}\"\n",
    "cl = requests.get(f'{url}{key}').json()['Structure']['CodeLists']['CodeList']['Code']\n",
    "for c in cl:\n",
    "    print(f\"{c['Description']['#text']}: {c['@value']}\")"
   ]
  },
  {
   "cell_type": "markdown",
   "metadata": {},
   "source": [
    "#### Bad example for how to get metadata\n",
    "\n",
    "Probably better to just print the text, m, and read it."
   ]
  },
  {
   "cell_type": "code",
   "execution_count": null,
   "metadata": {
    "ExecuteTime": {
     "end_time": "2019-04-20T14:45:28.143345Z",
     "start_time": "2019-04-20T14:45:28.005931Z"
    }
   },
   "outputs": [],
   "source": [
    "key = 'GenericMetadata/IFS/M.GB.PMP_IX'\n",
    "m = requests.get(f'{url}{key}').json()['GenericMetadata']['MetadataSet']['AttributeValueSet']\n",
    "country = m[1]['ReportedAttribute'][1]['ReportedAttribute'][3]['Value']['#text']\n",
    "indicator = m[2]['ReportedAttribute'][1]['ReportedAttribute'][3]['Value']['#text']\n",
    "print(f'Country: {country}; Indicator: {indicator}')"
   ]
  },
  {
   "cell_type": "markdown",
   "metadata": {},
   "source": [
    "#### Another example"
   ]
  },
  {
   "cell_type": "code",
   "execution_count": null,
   "metadata": {
    "ExecuteTime": {
     "end_time": "2019-04-20T14:45:28.151313Z",
     "start_time": "2019-04-20T14:45:28.145908Z"
    }
   },
   "outputs": [],
   "source": [
    "%matplotlib inline\n",
    "\n",
    "import matplotlib\n",
    "from matplotlib import pyplot as plt\n",
    "#import seaborn\n",
    "matplotlib.rc('axes',edgecolor='w')"
   ]
  },
  {
   "cell_type": "code",
   "execution_count": null,
   "metadata": {
    "ExecuteTime": {
     "end_time": "2019-04-20T14:45:30.042378Z",
     "start_time": "2019-04-20T14:45:28.153244Z"
    }
   },
   "outputs": [],
   "source": [
    "import pandas as pd           # pandas version 0.18.1\n",
    "\n",
    "# key includes two partners, B0 and W00 for EU and world\n",
    "key = 'CompactData/DOT/M.GB.TMG_CIF_USD.B0+W00'\n",
    "\n",
    "# Retrieve data from IMF API\n",
    "data = requests.get(f'{url}{key}').json()\n",
    "\n",
    "# Convert results to pandas dataframe\n",
    "df = pd.DataFrame({s['@COUNTERPART_AREA'] : {pd.to_datetime(i['@TIME_PERIOD']) : \n",
    "     round(float(i['@OBS_VALUE']), 1) for i in s['Obs']} \n",
    "     for s in data['CompactData']['DataSet']['Series']})\n",
    "\n",
    "# 12 month moving average of EU share of total\n",
    "eu_share = (df['B0'].div(df['W00']) * 100).rolling(12).mean()\n",
    "\n",
    "# Create a line plot and print most recent value as x label\n",
    "title = \"U.K. imports of goods: European Union share of total\"\n",
    "recent = f\"{eu_share.index[-1].strftime('%B %Y')}: {eu_share[-1].round(1)}%\"\n",
    "ax = eu_share.plot(title=title)\n",
    "ax = ax.set_xlabel(recent)"
   ]
  },
  {
   "cell_type": "code",
   "execution_count": null,
   "metadata": {},
   "outputs": [],
   "source": []
  },
  {
   "cell_type": "code",
   "execution_count": null,
   "metadata": {},
   "outputs": [],
   "source": []
  }
 ],
 "metadata": {
  "kernelspec": {
   "display_name": "geopandas",
   "language": "python",
   "name": "geopandas"
  },
  "language_info": {
   "codemirror_mode": {
    "name": "ipython",
    "version": 3
   },
   "file_extension": ".py",
   "mimetype": "text/x-python",
   "name": "python",
   "nbconvert_exporter": "python",
   "pygments_lexer": "ipython3",
   "version": "3.7.6"
  },
  "toc": {
   "base_numbering": 1,
   "nav_menu": {},
   "number_sections": true,
   "sideBar": true,
   "skip_h1_title": false,
   "title_cell": "Table of Contents",
   "title_sidebar": "Contents",
   "toc_cell": false,
   "toc_position": {},
   "toc_section_display": true,
   "toc_window_display": false
  }
 },
 "nbformat": 4,
 "nbformat_minor": 4
}
