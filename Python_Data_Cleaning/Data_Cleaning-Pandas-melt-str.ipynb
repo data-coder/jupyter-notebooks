{
 "cells": [
  {
   "cell_type": "code",
   "execution_count": 4,
   "metadata": {},
   "outputs": [
    {
     "ename": "ModuleNotFoundError",
     "evalue": "No module named 'geopandas'",
     "output_type": "error",
     "traceback": [
      "\u001b[0;31m---------------------------------------------------------------------------\u001b[0m",
      "\u001b[0;31mModuleNotFoundError\u001b[0m                       Traceback (most recent call last)",
      "\u001b[0;32m<ipython-input-4-81055ddb5a1a>\u001b[0m in \u001b[0;36m<module>\u001b[0;34m\u001b[0m\n\u001b[1;32m     11\u001b[0m \u001b[0;31m# level interface with\u001b[0m\u001b[0;34m\u001b[0m\u001b[0;34m\u001b[0m\u001b[0;34m\u001b[0m\u001b[0m\n\u001b[1;32m     12\u001b[0m \u001b[0;31m# matplotlib library for making maps\u001b[0m\u001b[0;34m\u001b[0m\u001b[0;34m\u001b[0m\u001b[0;34m\u001b[0m\u001b[0m\n\u001b[0;32m---> 13\u001b[0;31m \u001b[0;32mimport\u001b[0m \u001b[0mgeopandas\u001b[0m \u001b[0;32mas\u001b[0m \u001b[0mgpd\u001b[0m\u001b[0;34m\u001b[0m\u001b[0;34m\u001b[0m\u001b[0m\n\u001b[0m\u001b[1;32m     14\u001b[0m \u001b[0;34m\u001b[0m\u001b[0m\n\u001b[1;32m     15\u001b[0m df = pd.read_csv('/home/fede/Documents/Learn/Datacamp/'\n",
      "\u001b[0;31mModuleNotFoundError\u001b[0m: No module named 'geopandas'"
     ]
    }
   ],
   "source": [
    "import pandas as pd\n",
    "import matplotlib.pyplot as plt\n",
    "# import geopandas\n",
    "\n",
    "# for extracting the population data\n",
    "from urllib.request import urlopen\n",
    "import json\n",
    "from pandas.io.json import json_normalize\n",
    "\n",
    "# to read in shape file and provides high\n",
    "# level interface with\n",
    "# matplotlib library for making maps\n",
    "import geopandas as gpd\n",
    "\n",
    "df = pd.read_csv('/home/fede/Documents/Learn/Datacamp/'\n",
    "                 'Python/Cleaning_Data/tb.csv')\n",
    "df.head()"
   ]
  },
  {
   "cell_type": "code",
   "execution_count": null,
   "metadata": {},
   "outputs": [],
   "source": [
    "df.describe()"
   ]
  },
  {
   "cell_type": "markdown",
   "metadata": {},
   "source": [
    "Using describe, we see that our dataset has only one year: 2000, and each row represent a different country."
   ]
  },
  {
   "cell_type": "code",
   "execution_count": null,
   "metadata": {},
   "outputs": [],
   "source": [
    "df.columns"
   ]
  },
  {
   "cell_type": "code",
   "execution_count": null,
   "metadata": {},
   "outputs": [],
   "source": [
    "df.shape"
   ]
  },
  {
   "cell_type": "markdown",
   "metadata": {},
   "source": [
    "Using shape, we see that we have 201 different countries represented in our dataset."
   ]
  },
  {
   "cell_type": "markdown",
   "metadata": {},
   "source": [
    "## Preparing Data for Analysis: Reshaping Data\n",
    "\n",
    "This data is untidy and needs to be converted to be suitable for analysis. Acording to [Wickham 2014](https://vita.had.co.nz/papers/tidy-data.pdf), the standard way to organize values within a dataset is as follows:\n",
    "\n",
    "* Rows represent individual observations.\n",
    "* Columns represent separate variables.\n",
    "* Each type of observational unit forms a table.\n",
    "\n",
    "In this dataset, **columns** do not represent separate variables. \n",
    "\n",
    "And each **row** contains more than one observation. In the original dataset, each row represent a country-year combination.\n",
    "\n",
    "To fix this problem, I will use the pandas function **[melt](https://pandas.pydata.org/pandas-docs/stable/reference/api/pandas.melt.html)**.\n",
    "\n",
    "In our dataset, the identifier columns are country and year. The rest of the columms hold values for each country-year combinations and will be melted down."
   ]
  },
  {
   "cell_type": "code",
   "execution_count": null,
   "metadata": {},
   "outputs": [],
   "source": [
    "df = df.melt(id_vars=['country','year'],value_name='cases')\n",
    "df.head()"
   ]
  },
  {
   "cell_type": "markdown",
   "metadata": {},
   "source": [
    "Now, each row represents the number of cases for a different country."
   ]
  },
  {
   "cell_type": "code",
   "execution_count": null,
   "metadata": {},
   "outputs": [],
   "source": [
    "df.shape"
   ]
  },
  {
   "cell_type": "markdown",
   "metadata": {},
   "source": [
    "## Extract the sex and age group from the variable column\n",
    "\n",
    "Each value of the 'variable' column contains the sex and the age group. This shape will not allow us to fix a model using sex and age as independent predictors.\n",
    "\n",
    "The sex is represented by the first character of each value. I'll create a new column called 'sex' that will be the first character of the 'variable' column. For this, I will use the 'str' attibute, to treat the column as a string, and afterwards I will slice the string to extact the first character."
   ]
  },
  {
   "cell_type": "code",
   "execution_count": null,
   "metadata": {},
   "outputs": [],
   "source": [
    "df['sex'] = df.variable.str[:1]\n",
    "df.head()"
   ]
  },
  {
   "cell_type": "markdown",
   "metadata": {},
   "source": [
    "Regarding the age groups, I'll use the same procedure to extract the rest of the characters from the 'variable' column."
   ]
  },
  {
   "cell_type": "code",
   "execution_count": null,
   "metadata": {},
   "outputs": [],
   "source": [
    "df['age_group'] = df.variable.str[1:]\n",
    "df.head()"
   ]
  },
  {
   "cell_type": "markdown",
   "metadata": {},
   "source": [
    "Now, I just drop the 'variable' columns, since I've just extracted all the info from it into two different columns: 'sex' and 'age_group'"
   ]
  },
  {
   "cell_type": "code",
   "execution_count": null,
   "metadata": {},
   "outputs": [],
   "source": [
    "df.drop(columns=['variable'], inplace=True)"
   ]
  },
  {
   "cell_type": "code",
   "execution_count": null,
   "metadata": {},
   "outputs": [],
   "source": [
    "df.head(10)"
   ]
  },
  {
   "cell_type": "markdown",
   "metadata": {},
   "source": [
    "There are NaN values in cases, let's remove them using pandas dropna."
   ]
  },
  {
   "cell_type": "code",
   "execution_count": null,
   "metadata": {},
   "outputs": [],
   "source": [
    "df.shape"
   ]
  },
  {
   "cell_type": "code",
   "execution_count": null,
   "metadata": {},
   "outputs": [],
   "source": [
    "df.dropna(inplace=True)\n",
    "df.shape"
   ]
  },
  {
   "cell_type": "code",
   "execution_count": null,
   "metadata": {},
   "outputs": [],
   "source": [
    "df.head(10)"
   ]
  },
  {
   "cell_type": "code",
   "execution_count": null,
   "metadata": {},
   "outputs": [],
   "source": [
    "type(df['cases'][0])"
   ]
  },
  {
   "cell_type": "markdown",
   "metadata": {},
   "source": [
    "The 'cases' column contains numerical data, but is represente with a string. I'll convert it to an integer using the Pandas to_numeric. "
   ]
  },
  {
   "cell_type": "code",
   "execution_count": null,
   "metadata": {},
   "outputs": [],
   "source": [
    "#df['cases'] = pd.to_numeric(df['cases'],int)\n",
    "#df.head(10)"
   ]
  },
  {
   "cell_type": "code",
   "execution_count": null,
   "metadata": {},
   "outputs": [],
   "source": [
    "df.country[:10]"
   ]
  },
  {
   "cell_type": "markdown",
   "metadata": {},
   "source": [
    "Country names are codified using ISO alpha-2 codes, while not strictly necessary, I'll convert the codes to country names.\n",
    "\n",
    "First, I will extact an html table that contains the alpha-2 codes from Wikipedia, and convert this data to a dataframe that will have only 2 columns: Code and Country Name."
   ]
  },
  {
   "cell_type": "code",
   "execution_count": null,
   "metadata": {},
   "outputs": [],
   "source": [
    "countries = pd.read_html('https://en.wikipedia.org/wiki/ISO_3166-1')[1]"
   ]
  },
  {
   "cell_type": "code",
   "execution_count": null,
   "metadata": {},
   "outputs": [],
   "source": [
    "countries.head()"
   ]
  },
  {
   "cell_type": "code",
   "execution_count": null,
   "metadata": {},
   "outputs": [],
   "source": [
    "countries = countries[countries.columns[:3]]"
   ]
  },
  {
   "cell_type": "code",
   "execution_count": null,
   "metadata": {},
   "outputs": [],
   "source": [
    "countries.head()"
   ]
  },
  {
   "cell_type": "code",
   "execution_count": null,
   "metadata": {},
   "outputs": [],
   "source": [
    "countries.columns = ['country_name','country-code2','country-code3']"
   ]
  },
  {
   "cell_type": "markdown",
   "metadata": {},
   "source": [
    "Now, I will merge this dataset with the original dataset."
   ]
  },
  {
   "cell_type": "code",
   "execution_count": null,
   "metadata": {},
   "outputs": [],
   "source": [
    "df = df.merge(countries,left_on='country',right_on='country-code2').drop(columns=['country'])"
   ]
  },
  {
   "cell_type": "code",
   "execution_count": null,
   "metadata": {},
   "outputs": [],
   "source": [
    "df.head()"
   ]
  },
  {
   "cell_type": "markdown",
   "metadata": {},
   "source": [
    "I will extract the population data from a json available on GitHub. I convert this data to a new dataframe, containing only two columns: country code and population."
   ]
  },
  {
   "cell_type": "code",
   "execution_count": null,
   "metadata": {},
   "outputs": [],
   "source": [
    "population_url = 'https://gist.githubusercontent.com/gwillem/6ca8a81048e6f3721c3bafc803d44a72/raw/4fb66d18178c1a0fdf101fb6b03c4d21929472da/iso2_population.json'"
   ]
  },
  {
   "cell_type": "code",
   "execution_count": null,
   "metadata": {},
   "outputs": [],
   "source": [
    "response = urlopen(population_url)\n",
    "population_json_data = response.read().decode('utf-8', 'replace')\n",
    "\n",
    "population_json = json.loads(population_json_data)\n",
    "population_df = pd.DataFrame.from_dict(population_json,orient='index')\n",
    "population_df.columns = ['pop']"
   ]
  },
  {
   "cell_type": "code",
   "execution_count": null,
   "metadata": {},
   "outputs": [],
   "source": [
    "population_df.head()"
   ]
  },
  {
   "cell_type": "code",
   "execution_count": null,
   "metadata": {},
   "outputs": [],
   "source": [
    "type(population_df.iloc[0,0])"
   ]
  },
  {
   "cell_type": "markdown",
   "metadata": {},
   "source": [
    "The population is represented as a string, I convert it to integer using to_numeric."
   ]
  },
  {
   "cell_type": "code",
   "execution_count": null,
   "metadata": {},
   "outputs": [],
   "source": [
    "population_df['pop'] = pd.to_numeric(population_df['pop'])\n"
   ]
  },
  {
   "cell_type": "code",
   "execution_count": null,
   "metadata": {},
   "outputs": [],
   "source": [
    "population_df.head()"
   ]
  },
  {
   "cell_type": "code",
   "execution_count": null,
   "metadata": {},
   "outputs": [],
   "source": [
    "type(population_df.iloc[0,0])"
   ]
  },
  {
   "cell_type": "markdown",
   "metadata": {},
   "source": [
    "Now, I merge the population data with the original dataset, using the ISO 2-char code columns."
   ]
  },
  {
   "cell_type": "code",
   "execution_count": null,
   "metadata": {},
   "outputs": [],
   "source": [
    "df.head()"
   ]
  },
  {
   "cell_type": "code",
   "execution_count": null,
   "metadata": {},
   "outputs": [],
   "source": [
    "df = df.merge(population_df,left_on='country-code2',right_index=True)"
   ]
  },
  {
   "cell_type": "code",
   "execution_count": null,
   "metadata": {},
   "outputs": [],
   "source": [
    "df.head()"
   ]
  },
  {
   "cell_type": "markdown",
   "metadata": {},
   "source": [
    "# Exploartory Data Analysis\n",
    "\n",
    "First, I will find the total number of cases per country. Because the dataset has several rows for each country, each row having data for each sex and age group combination, I will use the Pandas groupby operation to just sum all the cases for each country. "
   ]
  },
  {
   "cell_type": "code",
   "execution_count": null,
   "metadata": {},
   "outputs": [],
   "source": [
    "# country\n",
    "countries = df.groupby(['country_name','country-code3']).sum()\n",
    "countries.reset_index(inplace=True)\n",
    "countries.head()"
   ]
  },
  {
   "cell_type": "markdown",
   "metadata": {},
   "source": [
    "The number of cases per country is not meaningful if we don't take the population into account. Now, I will find the tuberculosis rate per country. \n",
    "\n",
    "To do this, I divide the number of cases by the population and multiply this for one million, in order to find the rate per million of people.\n",
    "\n",
    "Afterwards, I sort the data by the rate, to find out the countries with the highest rates of tuberculosis."
   ]
  },
  {
   "cell_type": "code",
   "execution_count": null,
   "metadata": {},
   "outputs": [],
   "source": [
    "countries['rate'] = countries['cases'] / countries['pop'] * (10**6)\n",
    "countries = countries.sort_values(by='rate',ascending=False)\n",
    "countries[:5]"
   ]
  },
  {
   "cell_type": "code",
   "execution_count": null,
   "metadata": {},
   "outputs": [],
   "source": [
    "countries[:10].plot(kind='bar',x='country_name',y='rate')"
   ]
  },
  {
   "cell_type": "code",
   "execution_count": null,
   "metadata": {},
   "outputs": [],
   "source": [
    "world = gpd.read_file(gpd.datasets.get_path('naturalearth_lowres'))\n",
    "world = world[(world.name != \"Antarctica\") & (world.name != \"Fr. S. Antarctic Lands\")]  # exclude 2 no-man lands"
   ]
  },
  {
   "cell_type": "code",
   "execution_count": null,
   "metadata": {},
   "outputs": [],
   "source": [
    "merged = world.merge(countries,left_on='iso_a3',right_on='country-code3')\n",
    "merged.head()"
   ]
  },
  {
   "cell_type": "code",
   "execution_count": null,
   "metadata": {},
   "outputs": [],
   "source": [
    "vmin, vmax = 0,max(merged.rate)\n",
    "fig, ax = plt.subplots(1, figsize=(18, 8))\n",
    "ax.set_title('Tuberculosis Rate - World')\n",
    "ax.axis('off')\n",
    "ax.annotate('Number of Cases per Million\\nSource: World Health Organisation',xy=(0.1, .08),  xycoords='figure fraction', horizontalalignment='left', verticalalignment='top', fontsize=12, color='#555555')\n",
    "\n",
    "sm = plt.cm.ScalarMappable(cmap='binary', norm=plt.Normalize(vmin=vmin, vmax=vmax))\n",
    "cbar = fig.colorbar(sm)\n",
    "\n",
    "merged.plot(column='rate', cmap='binary', linewidth=0.8, ax=ax, edgecolor='0.8')"
   ]
  },
  {
   "cell_type": "code",
   "execution_count": null,
   "metadata": {},
   "outputs": [],
   "source": [
    "africa = merged[merged['continent'] == \"Africa\"] # only africa\n",
    "vmin, vmax = 0,max(africa.rate)\n",
    "fig, ax = plt.subplots(1, figsize=(18, 8))\n",
    "ax.set_title('Tuberculosis Rate - Africa')\n",
    "ax.axis('off')\n",
    "ax.annotate('Number of Cases per Million\\nSource: World Health Organisation',\n",
    "            xy=(0.1, .08),\n",
    "            xycoords='figure fraction',\n",
    "            horizontalalignment='left',\n",
    "            verticalalignment='top',\n",
    "            fontsize=12,color='#555555')\n",
    "\n",
    "sm = plt.cm.ScalarMappable(cmap='binary', norm=plt.Normalize(vmin=vmin, vmax=vmax))\n",
    "cbar = fig.colorbar(sm)\n",
    "\n",
    "africa.plot(column='rate', cmap='binary', linewidth=0.8, ax=ax, edgecolor='0.8')"
   ]
  },
  {
   "cell_type": "code",
   "execution_count": null,
   "metadata": {},
   "outputs": [],
   "source": [
    "americas = merged[(merged['continent'] == \"South America\") | (merged['continent'] == \"North America\")]\n",
    "vmin, vmax = 0,max(africa.rate)\n",
    "fig, ax = plt.subplots(1, figsize=(18, 8))\n",
    "ax.set_title('Tuberculosis Rate - Americas')\n",
    "ax.axis('off')\n",
    "ax.annotate('Number of Cases per Million\\nSource: World Health Organisation',\n",
    "            xy=(0.1, .08),\n",
    "            xycoords='figure fraction',\n",
    "            horizontalalignment='left',\n",
    "            verticalalignment='top',\n",
    "            fontsize=12,color='#555555')\n",
    "\n",
    "sm = plt.cm.ScalarMappable(cmap='binary', norm=plt.Normalize(vmin=vmin, vmax=vmax))\n",
    "cbar = fig.colorbar(sm)\n",
    "\n",
    "americas.plot(column='rate', cmap='binary', linewidth=0.8, ax=ax, edgecolor='0.8')"
   ]
  },
  {
   "cell_type": "code",
   "execution_count": null,
   "metadata": {},
   "outputs": [],
   "source": [
    "asia = merged[merged['continent'] == \"Asia\"] \n",
    "vmin, vmax = 0,max(africa.rate)\n",
    "fig, ax = plt.subplots(1, figsize=(18, 8))\n",
    "ax.set_title('Tuberculosis Rate - Asia')\n",
    "ax.axis('off')\n",
    "ax.annotate('Number of Cases per Million\\nSource: World Health Organisation',\n",
    "            xy=(0.1, .08),\n",
    "            xycoords='figure fraction',\n",
    "            horizontalalignment='left',\n",
    "            verticalalignment='top',\n",
    "            fontsize=12,color='#555555')\n",
    "\n",
    "sm = plt.cm.ScalarMappable(cmap='binary', norm=plt.Normalize(vmin=vmin, vmax=vmax))\n",
    "cbar = fig.colorbar(sm)\n",
    "\n",
    "asia.plot(column='rate', cmap='binary', linewidth=0.8, ax=ax, edgecolor='0.8')"
   ]
  }
 ],
 "metadata": {
  "kernelspec": {
   "display_name": "Python 3.7.3 64-bit ('fede': conda)",
   "language": "python",
   "name": "python37364bitfedeconda536ee4711b9d4451a81385f13a21fbd2"
  },
  "language_info": {
   "codemirror_mode": {
    "name": "ipython",
    "version": 3
   },
   "file_extension": ".py",
   "mimetype": "text/x-python",
   "name": "python",
   "nbconvert_exporter": "python",
   "pygments_lexer": "ipython3",
   "version": "3.7.3"
  },
  "toc": {
   "base_numbering": 1,
   "nav_menu": {},
   "number_sections": true,
   "sideBar": true,
   "skip_h1_title": false,
   "title_cell": "Table of Contents",
   "title_sidebar": "Contents",
   "toc_cell": false,
   "toc_position": {},
   "toc_section_display": true,
   "toc_window_display": false
  }
 },
 "nbformat": 4,
 "nbformat_minor": 4
}
