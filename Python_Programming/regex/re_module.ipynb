{
 "cells": [
  {
   "cell_type": "markdown",
   "metadata": {},
   "source": [
    "# Python Regex: Re Module\n",
    "\n",
    "A *regular expression* (regex, for short), is a text string that describes a search pattern.\n",
    "\n",
    "## Simple Examples\n",
    "\n",
    "### Single Character\n",
    "\n",
    "The simplest regular expression is just an single character, like 'a'. In this case, the pattern we want to find is just **'a'**.\n",
    "\n",
    "An ordinary character will simply match itself. For example, we check if 'a' is in the string 'pandas'. And the answer is yes. \n",
    "\n",
    "### Concatenation of Ordinary Characters\n",
    "\n",
    "The second simplest example is concatenation of single characters. For example, we can search for 'dog' in the string 'I like dogs and cats.'. In this case, the pattern is **'dog'**. \n",
    "\n",
    "### The Re Module\n",
    "\n",
    "The [re module](https://docs.python.org/3/library/re.html) provides regex matching operators in Python.\n",
    "\n",
    "In this notebook I'll show the functionality of the Python `re` module. \n",
    "\n",
    "The re module is included in the Python standard library that is distributed with Python."
   ]
  },
  {
   "cell_type": "code",
   "execution_count": 3,
   "metadata": {},
   "outputs": [],
   "source": [
    "import re  # Import the re module from the standard library"
   ]
  },
  {
   "cell_type": "markdown",
   "metadata": {},
   "source": [
    "The re module exports the following functions that we will explore below:\n",
    "\n",
    "* match     \n",
    "* fullmatch \n",
    "* search    \n",
    "* sub       \n",
    "* subn      \n",
    "* split     \n",
    "* findall   \n",
    "* finditer  \n",
    "* compile   \n",
    "* purge     \n",
    "* escape "
   ]
  },
  {
   "cell_type": "markdown",
   "metadata": {},
   "source": [
    "## match \n",
    "\n",
    "The re.match function is used to match a regular expression pattern to the beginning of a string.\n",
    "\n",
    "If zero or more characters at the beginning of string match the regular expression pattern, return a corresponding MatchObject instance. Return None if the string does not match the pattern; note that this is different from a zero-length match.\n",
    "\n",
    "If you want to locate a match anywhere in string, use search() instead."
   ]
  },
  {
   "cell_type": "code",
   "execution_count": 2,
   "metadata": {},
   "outputs": [
    {
     "name": "stdout",
     "output_type": "stream",
     "text": [
      "<re.Match object; span=(0, 1), match='c'>\n",
      "None\n",
      "<re.Match object; span=(0, 3), match='cat'>\n"
     ]
    }
   ],
   "source": [
    "print(re.match(\"c\", \"cat\"))\n",
    "print(re.match(\"a\", \"cat\"))\n",
    "print(re.match(\"cat\", \"cat\"))"
   ]
  },
  {
   "cell_type": "markdown",
   "metadata": {},
   "source": [
    "## fullmatch\n",
    "\n",
    "The re.fullmatch function is used to match a regular expression pattern to all of a string."
   ]
  },
  {
   "cell_type": "code",
   "execution_count": 4,
   "metadata": {},
   "outputs": [
    {
     "name": "stdout",
     "output_type": "stream",
     "text": [
      "None\n",
      "<re.Match object; span=(0, 3), match='cat'>\n"
     ]
    }
   ],
   "source": [
    "print(re.fullmatch(\"c\", \"cat\"))\n",
    "print(re.fullmatch(\"cat\", \"cat\"))"
   ]
  },
  {
   "cell_type": "markdown",
   "metadata": {},
   "source": [
    "## search\n",
    "\n",
    "The re.search function is used to search a string for the presence of a pattern."
   ]
  },
  {
   "cell_type": "code",
   "execution_count": 10,
   "metadata": {},
   "outputs": [
    {
     "data": {
      "text/plain": [
       "<re.Match object; span=(1, 2), match='a'>"
      ]
     },
     "execution_count": 10,
     "metadata": {},
     "output_type": "execute_result"
    }
   ],
   "source": [
    "re.search(\"a\", \"cat\")"
   ]
  },
  {
   "cell_type": "markdown",
   "metadata": {},
   "source": [
    "## re match vs fullmatch vs search\n",
    "\n",
    "Match is anchored at the beginning of the string.\n",
    "\n",
    "Fullmatch is anchored at the start and end of the string.\n",
    "\n",
    "While match and fullmatch are anchored, search is not anchored. It can match a pattern anywhere in the string."
   ]
  },
  {
   "cell_type": "code",
   "execution_count": 9,
   "metadata": {},
   "outputs": [
    {
     "data": {
      "text/plain": [
       "<re.Match object; span=(2, 5), match='cat'>"
      ]
     },
     "execution_count": 9,
     "metadata": {},
     "output_type": "execute_result"
    }
   ],
   "source": [
    "re.search(\"cat\", \"A cat is not a dog.\")"
   ]
  },
  {
   "cell_type": "code",
   "execution_count": 11,
   "metadata": {},
   "outputs": [
    {
     "name": "stdout",
     "output_type": "stream",
     "text": [
      "<re.Match object; span=(0, 1), match='c'>\n",
      "<re.Match object; span=(0, 1), match='c'>\n"
     ]
    }
   ],
   "source": [
    "print(re.match(\"c\", \"cat\"))\n",
    "print(re.search(\"c\", \"cat\"))"
   ]
  },
  {
   "cell_type": "markdown",
   "metadata": {},
   "source": [
    "The `^` special characters means at the beginning of the string. Then:\n",
    "\n",
    "`re.match('pattern')` equals `re.search('^pattern')`"
   ]
  },
  {
   "cell_type": "code",
   "execution_count": 12,
   "metadata": {},
   "outputs": [
    {
     "name": "stdout",
     "output_type": "stream",
     "text": [
      "None\n",
      "None\n"
     ]
    }
   ],
   "source": [
    "print(re.match(\"a\", \"cat\"))\n",
    "print(re.search(\"^a\", \"cat\"))"
   ]
  },
  {
   "cell_type": "markdown",
   "metadata": {},
   "source": [
    "The differences are:\n",
    "\n",
    "* `re.match('pattern')` is slighty faster than `re.search('^pattern')`. \n",
    "* `re.search('^pattern')` has the ability to search at the beginning of each line in a multiline string."
   ]
  }
 ],
 "metadata": {
  "kernelspec": {
   "display_name": "Python 3.7.3 64-bit ('fede': conda)",
   "language": "python",
   "name": "python37364bitfedeconda536ee4711b9d4451a81385f13a21fbd2"
  },
  "language_info": {
   "codemirror_mode": {
    "name": "ipython",
    "version": 3
   },
   "file_extension": ".py",
   "mimetype": "text/x-python",
   "name": "python",
   "nbconvert_exporter": "python",
   "pygments_lexer": "ipython3",
   "version": "3.7.6"
  }
 },
 "nbformat": 4,
 "nbformat_minor": 4
}
