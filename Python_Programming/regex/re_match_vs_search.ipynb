{
 "cells": [
  {
   "cell_type": "markdown",
   "metadata": {},
   "source": [
    "# Re Match vs Search\n",
    "\n",
    "## Match \n",
    "\n",
    "The re.match function is used to match a regular expression pattern to the beginning of a string.\n",
    "\n",
    "If zero or more characters at the beginning of string match the regular expression pattern, return a corresponding MatchObject instance. Return None if the string does not match the pattern; note that this is different from a zero-length match.\n",
    "\n",
    "If you want to locate a match anywhere in string, use search() instead.\n",
    "\n",
    "## Search\n",
    "\n",
    "The re.search function is used to search a string for the presence of a pattern.\n",
    "\n",
    "## Equivalences\n",
    "\n",
    "In Regex, the `^` special characters means at the beginning of the string. Then:\n",
    "\n",
    "`re.match('pattern')` can be equivalent to `re.search('^pattern')` in many cases.\n",
    "\n",
    "## Differences\n",
    "\n",
    "The differences are:\n",
    "\n",
    "* `re.match('pattern')` is slighty faster than `re.search('^pattern')`. \n",
    "* `re.search('^pattern')` has the ability to search at the beginning of each line in a multiline string."
   ]
  },
  {
   "cell_type": "markdown",
   "metadata": {},
   "source": [
    "## Speed\n",
    "\n",
    "Following test is adapter from user [nosklo](https://stackoverflow.com/users/17160/nosklo) from [stackoverflow](https://stackoverflow.com/questions/180986/what-is-the-difference-between-re-search-and-re-match/49710946#49710946)"
   ]
  },
  {
   "cell_type": "code",
   "execution_count": 1,
   "metadata": {},
   "outputs": [],
   "source": [
    "import re\n",
    "import random\n",
    "import string\n",
    "\n",
    "LENGTH = 10\n",
    "LIST_SIZE = 100  # TODO, increase size\n",
    "\n",
    "\n",
    "def generate_word():\n",
    "    word = [random.choice(string.ascii_lowercase) for _ in range(LENGTH)]\n",
    "    word = \"\".join(word) + ' '\n",
    "    return word\n",
    "\n",
    "\n",
    "wordlist = [generate_word() for number in range(LIST_SIZE)]\n",
    "wordlist[2] = 'python'\n",
    "paragraph = ' '.join(wordlist)"
   ]
  },
  {
   "cell_type": "code",
   "execution_count": 2,
   "metadata": {},
   "outputs": [
    {
     "name": "stdout",
     "output_type": "stream",
     "text": [
      "aumkgatqmf  jzynobaxjp  python rlnoawvwvr  jhfhcmvzmc  qbuaquffxb  ozltnvsuqi  wmdxzbcjgb  dsbhjdomq\n"
     ]
    }
   ],
   "source": [
    "print(paragraph[:100])"
   ]
  },
  {
   "cell_type": "code",
   "execution_count": 14,
   "metadata": {},
   "outputs": [
    {
     "name": "stdout",
     "output_type": "stream",
     "text": [
      "122 µs ± 1.32 µs per loop (mean ± std. dev. of 7 runs, 10000 loops each)\n"
     ]
    }
   ],
   "source": [
    "%%timeit\n",
    "re_match_1 = [re.match('python', word) for word in wordlist]"
   ]
  },
  {
   "cell_type": "code",
   "execution_count": 13,
   "metadata": {},
   "outputs": [
    {
     "name": "stdout",
     "output_type": "stream",
     "text": [
      "134 µs ± 1.81 µs per loop (mean ± std. dev. of 7 runs, 10000 loops each)\n"
     ]
    }
   ],
   "source": [
    "%%timeit\n",
    "re_search = [re.search('^python', word) for word in wordlist]"
   ]
  },
  {
   "cell_type": "code",
   "execution_count": 15,
   "metadata": {},
   "outputs": [],
   "source": [
    "re_match = [re.match(\"python\", word) for word in wordlist]\n",
    "re_search_1 = [re.search('^python', word) for word in wordlist]\n",
    "re_search_2 = [re.search('^python', word) for word in wordlist]"
   ]
  },
  {
   "cell_type": "code",
   "execution_count": 21,
   "metadata": {},
   "outputs": [
    {
     "data": {
      "text/plain": [
       "[None, None, <re.Match object; span=(0, 6), match='python'>, None]"
      ]
     },
     "execution_count": 21,
     "metadata": {},
     "output_type": "execute_result"
    }
   ],
   "source": [
    "re_match_1[:4]"
   ]
  },
  {
   "cell_type": "code",
   "execution_count": 20,
   "metadata": {},
   "outputs": [
    {
     "data": {
      "text/plain": [
       "[None, None, <re.Match object; span=(0, 6), match='python'>, None]"
      ]
     },
     "execution_count": 20,
     "metadata": {},
     "output_type": "execute_result"
    }
   ],
   "source": [
    "re_search[:4]"
   ]
  },
  {
   "cell_type": "code",
   "execution_count": 32,
   "metadata": {},
   "outputs": [
    {
     "name": "stdout",
     "output_type": "stream",
     "text": [
      "<re.Match object; span=(0, 5), match='A cat'>\n"
     ]
    }
   ],
   "source": [
    "print(re.match('(.*?)cat', 'A cat is not a dog.'))"
   ]
  },
  {
   "cell_type": "code",
   "execution_count": 29,
   "metadata": {},
   "outputs": [
    {
     "name": "stdout",
     "output_type": "stream",
     "text": [
      "<re.Match object; span=(2, 5), match='cat'>\n"
     ]
    }
   ],
   "source": [
    "print(re.search('cat', 'A cat is not a dog.'))"
   ]
  },
  {
   "cell_type": "code",
   "execution_count": 28,
   "metadata": {},
   "outputs": [
    {
     "name": "stdout",
     "output_type": "stream",
     "text": [
      "None\n"
     ]
    }
   ],
   "source": [
    "print(re.match('cat', 'A cat is not a dog.'))"
   ]
  },
  {
   "cell_type": "markdown",
   "metadata": {},
   "source": [
    "## Multiline\n",
    "\n",
    "Re.match doesn't accept the multiline option.\n",
    "\n",
    "`re.M`  \n",
    "`re.MULTILINE`\n",
    "\n",
    "    When specified, the pattern character '^' matches at the beginning of the string and at the beginning of each line (immediately following each newline); and the pattern character '\\$' matches at the end of the string and at the end of each line (immediately preceding each newline). By default, '^' matches only at the beginning of the string, and '$' only at the end of the string and immediately before the newline (if any) at the end of the string.\n"
   ]
  },
  {
   "cell_type": "code",
   "execution_count": 45,
   "metadata": {},
   "outputs": [
    {
     "name": "stdout",
     "output_type": "stream",
     "text": [
      "A\n",
      "cat is not a dog\n"
     ]
    }
   ],
   "source": [
    "STRING = \"A\\ncat is not a dog\"\n",
    "print(STRING)"
   ]
  },
  {
   "cell_type": "code",
   "execution_count": 43,
   "metadata": {},
   "outputs": [
    {
     "name": "stdout",
     "output_type": "stream",
     "text": [
      "None\n"
     ]
    }
   ],
   "source": [
    "print(re.match('cat', STRING, re.MULTILINE))"
   ]
  },
  {
   "cell_type": "code",
   "execution_count": 44,
   "metadata": {},
   "outputs": [
    {
     "name": "stdout",
     "output_type": "stream",
     "text": [
      "<re.Match object; span=(2, 5), match='cat'>\n"
     ]
    }
   ],
   "source": [
    "print(re.search('^cat', STRING, re.MULTILINE))"
   ]
  },
  {
   "cell_type": "code",
   "execution_count": 47,
   "metadata": {},
   "outputs": [
    {
     "name": "stdout",
     "output_type": "stream",
     "text": [
      "None\n"
     ]
    }
   ],
   "source": [
    "print(re.search('^cat', STRING))"
   ]
  }
 ],
 "metadata": {
  "kernelspec": {
   "display_name": "Python 3.7.3 64-bit ('fede': conda)",
   "language": "python",
   "name": "python37364bitfedeconda536ee4711b9d4451a81385f13a21fbd2"
  },
  "language_info": {
   "codemirror_mode": {
    "name": "ipython",
    "version": 3
   },
   "file_extension": ".py",
   "mimetype": "text/x-python",
   "name": "python",
   "nbconvert_exporter": "python",
   "pygments_lexer": "ipython3",
   "version": "3.7.6"
  }
 },
 "nbformat": 4,
 "nbformat_minor": 4
}
