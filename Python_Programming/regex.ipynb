{
 "cells": [
  {
   "cell_type": "markdown",
   "metadata": {},
   "source": [
    "# Introduction to Regex Matching with Python\n",
    "\n",
    "In this notebook, I'll show how to use Regex to check for the presence of search patterns in strings using progresive examples.\n",
    "\n",
    "A *regular expression* (regex, for short), is a text string that describes a search pattern.\n",
    "\n",
    "The simplest regular expression is just an single character, like 'a'. An ordinary character will simply match itself. For example, we check if 'a' is in the string 'pandas'. We can concatenate ordinary characters. For example, we can search for 'dog' in the string 'I like dogs and cats.'.\n",
    "\n",
    "But regex is powerful, and can do much more. Below, I'll introduce Regex using progresive examples implemented with the Python re module. The [re module](https://docs.python.org/3/library/re.html) provides regex matching operators in Python."
   ]
  },
  {
   "cell_type": "code",
   "execution_count": 1,
   "metadata": {},
   "outputs": [],
   "source": [
    "import re\n",
    "\n",
    "# for some functions defined by me to show only in jupyter\n",
    "# import sys\n",
    "# import os\n",
    "# sys.path.insert(1, '/home/fede/Documents/Learn/Private_Scripts/Various_Utilities')\n",
    "# sys.path.insert(0, os.path.abspath('/home/fede/Documents/Learn/Private_Scripts/Various_Utilities/'))\n",
    "# import jupyter_demostrations\n",
    "# from jupyter_demostrations import fshow"
   ]
  },
  {
   "cell_type": "code",
   "execution_count": 37,
   "metadata": {},
   "outputs": [],
   "source": [
    "def fshow(code_to_execute: str, explanation: str = \"\") -> None:\n",
    "    \"\"\" prints the input string and the output \"\"\"\n",
    "    print(f\"{explanation}\\n>>> {code_to_execute} \\n{eval(code_to_execute)}\")\n",
    "\n",
    "\n",
    "def fshow_multiple(dict_of_functions: dict) -> None:\n",
    "    for key, value in examples.items():\n",
    "        print(key)\n",
    "        for item in value:\n",
    "            fshow(item)"
   ]
  },
  {
   "cell_type": "markdown",
   "metadata": {},
   "source": [
    "re provides several functions for using Regex in Python. The most important function provided by re is `search`. And in this notebook I'll focus only in this function.\n",
    "\n",
    "But here is the full list of functions provided by re.\n",
    "\n",
    "- match     Match a regular expression pattern to the beginning of a string.\n",
    "- fullmatch Match a regular expression pattern to all of a string.\n",
    "- **search**    Search a string for the presence of a pattern.\n",
    "- sub       Substitute occurrences of a pattern found in a string.\n",
    "- subn      Same as sub, but also return the number of substitutions made.\n",
    "- split     Split a string by the occurrences of a pattern.\n",
    "- findall   Find all occurrences of a pattern in a string.\n",
    "- finditer  Return an iterator yielding a Match object for each match.\n",
    "- compile   Compile a pattern into a Pattern object.\n",
    "- purge     Clear the regular expression cache.\n",
    "- escape    Backslash all non-alphanumerics in a string."
   ]
  },
  {
   "cell_type": "markdown",
   "metadata": {},
   "source": [
    "Let's begin with a simple example. Let's look for the presence of the letter 'a' in the string 'cat'.\n",
    "\n",
    "The re.search function inputs are:\n",
    "* A regex pattern.\n",
    "* A string.\n",
    "\n",
    "In our example, the regex pattern is just `'a'` (Don't worry, I'll introduce more complex patterns shortly :)\n",
    "\n",
    "And the string is `'cat'`.\n",
    "\n",
    "Let first look at the output and afterward I'll explain it:"
   ]
  },
  {
   "cell_type": "code",
   "execution_count": 3,
   "metadata": {},
   "outputs": [
    {
     "name": "stdout",
     "output_type": "stream",
     "text": [
      "<re.Match object; span=(1, 2), match='a'>\n"
     ]
    }
   ],
   "source": [
    "print(re.search(\"a\", \"cat\"))"
   ]
  },
  {
   "cell_type": "markdown",
   "metadata": {},
   "source": [
    "As you can see, the output is not a boolean, but provides more information.\n",
    "\n",
    "The output of `re.search` is a Match object if a match was found. In this case, since 'a' is in 'cat', it returns a Match object.\n",
    "\n",
    "The `span` attribute shows the start and end of the match. In this case, since 'a' is in the second position, it returns the tuple (1, 2):"
   ]
  },
  {
   "cell_type": "markdown",
   "metadata": {},
   "source": [
    "Let's look for the letter 'a' in the string 'dog':"
   ]
  },
  {
   "cell_type": "code",
   "execution_count": 4,
   "metadata": {},
   "outputs": [
    {
     "name": "stdout",
     "output_type": "stream",
     "text": [
      "None\n"
     ]
    }
   ],
   "source": [
    "print(re.search(\"a\", \"dog\"))"
   ]
  },
  {
   "cell_type": "markdown",
   "metadata": {},
   "source": [
    "Since 'a' is not in 'dog', `re.search` returns `None` "
   ]
  },
  {
   "cell_type": "code",
   "execution_count": 5,
   "metadata": {},
   "outputs": [
    {
     "name": "stdout",
     "output_type": "stream",
     "text": [
      "Help on function search in module re:\n",
      "\n",
      "search(pattern, string, flags=0)\n",
      "    Scan through string looking for a match to the pattern, returning\n",
      "    a Match object, or None if no match was found.\n",
      "\n"
     ]
    }
   ],
   "source": [
    "help(re.search)"
   ]
  },
  {
   "cell_type": "markdown",
   "metadata": {},
   "source": [
    "## re.search vs re.match"
   ]
  },
  {
   "cell_type": "code",
   "execution_count": 6,
   "metadata": {},
   "outputs": [
    {
     "name": "stdout",
     "output_type": "stream",
     "text": [
      "<re.Match object; span=(0, 1), match='c'>\n",
      "None\n",
      "<re.Match object; span=(0, 3), match='cat'>\n",
      "None\n",
      "<re.Match object; span=(0, 3), match='cat'>\n",
      "<re.Match object; span=(1, 2), match='a'>\n",
      "bat\n",
      "('bat', 1)\n",
      "['hello', 'world']\n",
      "['o', 'o']\n",
      "[<re.Match object; span=(4, 5), match='o'>, <re.Match object; span=(7, 8), match='o'>]\n",
      "<re.Match object; span=(1, 2), match='a'>\n",
      "<re.Match object; span=(0, 1), match='H'>\n",
      "<re.Match object; span=(11, 12), match='.'>\n"
     ]
    },
    {
     "data": {
      "text/plain": [
       "'\\\\.'"
      ]
     },
     "execution_count": 6,
     "metadata": {},
     "output_type": "execute_result"
    }
   ],
   "source": [
    "# re.match: Match a regular expression pattern to the beginning of a string.\n",
    "print(re.match(\"c\", \"cat\"))\n",
    "print(re.match(\"a\", \"cat\"))\n",
    "print(re.match(\"cat\", \"cat\"))\n",
    "# re.match: Match a regular expression pattern to all of a string.\n",
    "print(re.fullmatch(\"c\", \"cat\"))\n",
    "print(re.fullmatch(\"cat\", \"cat\"))\n",
    "# re.search: Search a string for the presence of a pattern.\n",
    "print(re.search(\"a\", \"cat\"))\n",
    "# re.sub Substitute occurrences of a pattern found in a string.\n",
    "print(re.sub(\"c\", \"b\", \"cat\"))\n",
    "# re.subn Same as sub, but also return the number of substitutions made.\n",
    "print(re.subn(\"c\", \"b\", \"cat\"))\n",
    "# re.split Split a string by the occurrences of a pattern.\n",
    "print(re.split(\" \", \"hello world\"))\n",
    "# re.findall Find all occurrences of a pattern in a string.\n",
    "print(re.findall(\"o\", \"hello world\"))\n",
    "# re.finditer  Return an iterator yielding a Match object for each match.\n",
    "print([i for i in re.finditer(\"o\", \"hello world\")])\n",
    "# re.compile   Compile a pattern into a Pattern object.\n",
    "# to separate definition of the regex from its use.\n",
    "# to get better performance when it's run a lot of times\n",
    "pattern = re.compile(\"a\")\n",
    "print(re.search(pattern, \"cat\"))\n",
    "# re.purge Clear the regular expression cache.\n",
    "# little memory benefit, and can actually hurt performance if you purged it.\n",
    "re.purge()\n",
    "# re.escape Backslash all non-alphanumerics in a string.\n",
    "print(re.search(\".\", \"Hello World.\"))  # notice the end dot in the string\n",
    "print(re.search(re.escape(\".\"), \"Hello World.\"))  # notice the end dot in the string\n",
    "re.escape(\".\")"
   ]
  },
  {
   "cell_type": "code",
   "execution_count": 7,
   "metadata": {},
   "outputs": [
    {
     "name": "stdout",
     "output_type": "stream",
     "text": [
      "<re.Match object; span=(1, 2), match='a'>\n",
      "bat\n",
      "('bat', 1)\n",
      "['hello', 'world']\n",
      "['o', 'o']\n",
      "[<re.Match object; span=(4, 5), match='o'>, <re.Match object; span=(7, 8), match='o'>]\n",
      "<re.Match object; span=(1, 2), match='a'>\n",
      "<re.Match object; span=(0, 1), match='H'>\n",
      "<re.Match object; span=(11, 12), match='.'>\n"
     ]
    },
    {
     "data": {
      "text/plain": [
       "'\\\\.'"
      ]
     },
     "execution_count": 7,
     "metadata": {},
     "output_type": "execute_result"
    }
   ],
   "source": [
    "examples = {\n",
    "    \"re.match\": (\"re.match('c', 'cat')\", \"re.match('cat', 'cat')\"),\n",
    "    \"re.fullmatch\": (\"re.fullmatch('c', 'cat')\", \"re.fullmatch('cat', 'cat')\"),\n",
    "}\n",
    "\n",
    "# re.search: Search a string for the presence of a pattern.\n",
    "print(re.search(\"a\", \"cat\"))\n",
    "# re.sub Substitute occurrences of a pattern found in a string.\n",
    "print(re.sub(\"c\", \"b\", \"cat\"))\n",
    "# re.subn Same as sub, but also return the number of substitutions made.\n",
    "print(re.subn(\"c\", \"b\", \"cat\"))\n",
    "# re.split Split a string by the occurrences of a pattern.\n",
    "print(re.split(\" \", \"hello world\"))\n",
    "# re.findall Find all occurrences of a pattern in a string.\n",
    "print(re.findall(\"o\", \"hello world\"))\n",
    "# re.finditer  Return an iterator yielding a Match object for each match.\n",
    "print([i for i in re.finditer(\"o\", \"hello world\")])\n",
    "# re.compile   Compile a pattern into a Pattern object.\n",
    "# to separate definition of the regex from its use.\n",
    "# to get better performance when it's run a lot of times\n",
    "pattern = re.compile(\"a\")\n",
    "print(re.search(pattern, \"cat\"))\n",
    "# re.purge Clear the regular expression cache.\n",
    "# little memory benefit, and can actually hurt performance if you purged it.\n",
    "re.purge()\n",
    "# re.escape Backslash all non-alphanumerics in a string.\n",
    "print(re.search(\".\", \"Hello World.\"))  # notice the end dot in the string\n",
    "print(re.search(re.escape(\".\"), \"Hello World.\"))  # notice the end dot in the string\n",
    "re.escape(\".\")"
   ]
  },
  {
   "cell_type": "code",
   "execution_count": 8,
   "metadata": {},
   "outputs": [
    {
     "name": "stdout",
     "output_type": "stream",
     "text": [
      "re.match\n",
      "\n",
      ">>> re.match('c', 'cat') \n",
      "<re.Match object; span=(0, 1), match='c'>\n",
      "\n",
      ">>> re.match('cat', 'cat') \n",
      "<re.Match object; span=(0, 3), match='cat'>\n",
      "re.fullmatch\n",
      "\n",
      ">>> re.fullmatch('c', 'cat') \n",
      "None\n",
      "\n",
      ">>> re.fullmatch('cat', 'cat') \n",
      "<re.Match object; span=(0, 3), match='cat'>\n"
     ]
    }
   ],
   "source": [
    "for key, value in examples.items():\n",
    "    print(key)\n",
    "    for i in value:\n",
    "        fshow(i)"
   ]
  },
  {
   "cell_type": "code",
   "execution_count": 9,
   "metadata": {},
   "outputs": [
    {
     "name": "stdout",
     "output_type": "stream",
     "text": [
      "apple red\n",
      "mango green\n",
      "orange orange\n",
      "apple red\n",
      "mango green\n",
      "orange orange\n",
      "apple red\n",
      "mango green\n",
      "orange orange\n",
      "apple red\n",
      "mango green\n",
      "orange orange\n"
     ]
    }
   ],
   "source": [
    "dict = {\"apple\": \"red\", \"mango\": \"green\", \"orange\": \"orange\"}\n",
    "\n",
    "for key, value in dict.items():\n",
    "    print(key, value)\n",
    "\n",
    "for item in dict.items():\n",
    "    print(item[0], dict[item[0]])\n",
    "\n",
    "for item in dict.items():\n",
    "    print(item[0], item[1])\n",
    "\n",
    "for i in enumerate(dict):\n",
    "    print(i[1], dict[i[1]])"
   ]
  },
  {
   "cell_type": "code",
   "execution_count": 10,
   "metadata": {},
   "outputs": [
    {
     "name": "stdout",
     "output_type": "stream",
     "text": [
      "re.match\n",
      "\n",
      ">>> re.match('c', 'cat') \n",
      "<re.Match object; span=(0, 1), match='c'>\n",
      "\n",
      ">>> re.match('cat', 'cat') \n",
      "<re.Match object; span=(0, 3), match='cat'>\n",
      "re.fullmatch\n",
      "\n",
      ">>> re.fullmatch('c', 'cat') \n",
      "None\n",
      "\n",
      ">>> re.fullmatch('cat', 'cat') \n",
      "<re.Match object; span=(0, 3), match='cat'>\n"
     ]
    }
   ],
   "source": [
    "fshow_multiple(examples)"
   ]
  },
  {
   "cell_type": "code",
   "execution_count": 11,
   "metadata": {},
   "outputs": [
    {
     "name": "stdout",
     "output_type": "stream",
     "text": [
      "\n",
      ">>> re.match('c', 'cat') \n",
      "<re.Match object; span=(0, 1), match='c'>\n"
     ]
    }
   ],
   "source": [
    "fshow(\"re.match('c', 'cat')\")"
   ]
  },
  {
   "cell_type": "code",
   "execution_count": 12,
   "metadata": {},
   "outputs": [
    {
     "name": "stdout",
     "output_type": "stream",
     "text": [
      "\n",
      ">>> re.match('a', 'cat') \n",
      "None\n"
     ]
    }
   ],
   "source": [
    "fshow(\"re.match('a', 'cat')\")"
   ]
  },
  {
   "cell_type": "markdown",
   "metadata": {},
   "source": [
    "Lets now look at the same examples using a Python loop:"
   ]
  },
  {
   "cell_type": "code",
   "execution_count": 13,
   "metadata": {},
   "outputs": [
    {
     "name": "stdout",
     "output_type": "stream",
     "text": [
      "<re.Match object; span=(1, 2), match='a'>\n",
      "None\n"
     ]
    }
   ],
   "source": [
    "# Text to parse\n",
    "strings = [\"cat\", \"dog\"]\n",
    "\n",
    "for string in strings:\n",
    "    print(re.search(\"a\", string))"
   ]
  },
  {
   "cell_type": "markdown",
   "metadata": {},
   "source": [
    "I'll add the word 'area' to the list of strings:"
   ]
  },
  {
   "cell_type": "code",
   "execution_count": 14,
   "metadata": {},
   "outputs": [
    {
     "name": "stdout",
     "output_type": "stream",
     "text": [
      "<re.Match object; span=(1, 2), match='a'>\n",
      "None\n",
      "<re.Match object; span=(0, 1), match='a'>\n"
     ]
    }
   ],
   "source": [
    "# Text to parse\n",
    "strings = [\"cat\", \"dog\", \"area\"]\n",
    "\n",
    "for string in strings:\n",
    "    print(re.search(\"a\", string))"
   ]
  },
  {
   "cell_type": "markdown",
   "metadata": {},
   "source": [
    "In the case of 'area', the letter 'a' is to be found in two postions. At the beginning and at the end. The re.Match object span attribute returned is (0, 1), because it matches the first occurence. "
   ]
  },
  {
   "cell_type": "markdown",
   "metadata": {},
   "source": [
    "Let's now check if there is a match of 'og' in the list of strings 'cat, 'dog', 'fog':"
   ]
  },
  {
   "cell_type": "code",
   "execution_count": 15,
   "metadata": {},
   "outputs": [
    {
     "name": "stdout",
     "output_type": "stream",
     "text": [
      "None\n",
      "<re.Match object; span=(1, 3), match='og'>\n",
      "<re.Match object; span=(1, 3), match='og'>\n"
     ]
    }
   ],
   "source": [
    "# Text to parse\n",
    "strings = [\"cat\", \"dog\", \"fog\"]\n",
    "\n",
    "for string in strings:\n",
    "    print(re.search(\"og\", string))"
   ]
  },
  {
   "cell_type": "markdown",
   "metadata": {},
   "source": [
    "## `\\d` Digits\n",
    "\n",
    "Admitedly, my previous examples were not impressive. The same output could have been easily achieved without using Regex. \n",
    "\n",
    "But now it's time for the introduction of Regex special characters or metacharacters. Metacharacters are the building blocks of regular expressions, and allow us to build more complex regular expressions.\n",
    "\n",
    "There are many Regex special characters. The first metacharacter I'll introduce is `\\d`.\n",
    "\n",
    "`\\d` matches any digit from 0 to 9."
   ]
  },
  {
   "cell_type": "code",
   "execution_count": 16,
   "metadata": {},
   "outputs": [
    {
     "name": "stdout",
     "output_type": "stream",
     "text": [
      "<re.Match object; span=(0, 1), match='1'>\n",
      "<re.Match object; span=(2, 3), match='1'>\n",
      "None\n"
     ]
    }
   ],
   "source": [
    "strings = [\"123\", \"aa1\", \"cat\"]\n",
    "\n",
    "for string in strings:\n",
    "    print(re.search(\"\\d\", string))"
   ]
  },
  {
   "cell_type": "markdown",
   "metadata": {},
   "source": [
    "## `.` Wildcard\n",
    "\n",
    "The `.` is a wildcard used for matching any single character except a newline. It can be:\n",
    "\n",
    "- a letter (abc...)\n",
    "- a number (0123456789)\n",
    "- a special character (!@%^&*()\n",
    "- a white space (` `)\n",
    "\n",
    "If you need to match the dot special character `.`, you need to escape it using the backslash \\ using the following expression `\\.`.\n",
    "\n",
    "Below are some strings. Some of them contain a dot `.` and others do not.\n",
    "\n",
    "First, let's create a pattern to match all of them using the wildcard `.`."
   ]
  },
  {
   "cell_type": "code",
   "execution_count": 17,
   "metadata": {},
   "outputs": [
    {
     "name": "stdout",
     "output_type": "stream",
     "text": [
      "<re.Match object; span=(0, 1), match='M'>\n",
      "<re.Match object; span=(0, 1), match='a'>\n",
      "<re.Match object; span=(0, 1), match='1'>\n",
      "<re.Match object; span=(0, 1), match='h'>\n",
      "<re.Match object; span=(0, 1), match=' '>\n"
     ]
    }
   ],
   "source": [
    "strings = [\"My name is Mike.\", \"abc.\", \"1000.00\", \"house of cards\", \" \"]\n",
    "\n",
    "# match all string using the wildcard\n",
    "for string in strings:\n",
    "    print(re.search(\".\", string))"
   ]
  },
  {
   "cell_type": "markdown",
   "metadata": {},
   "source": [
    "As we can see, the unescaped `.` matches any character, even the whitespace `' '`.\n",
    "\n",
    "Now, I'll create a pattern to match only those that contain a dot. To do this, we'll need to escape the dot using `\\.` instead of `.`"
   ]
  },
  {
   "cell_type": "code",
   "execution_count": 18,
   "metadata": {},
   "outputs": [
    {
     "name": "stdout",
     "output_type": "stream",
     "text": [
      "<re.Match object; span=(15, 16), match='.'>\n",
      "<re.Match object; span=(3, 4), match='.'>\n",
      "<re.Match object; span=(4, 5), match='.'>\n",
      "None\n",
      "None\n"
     ]
    }
   ],
   "source": [
    "# match only those that contain a dot, escaping the dot with a backslash\n",
    "for string in strings:\n",
    "    print(re.search(r\"\\.\", string))"
   ]
  },
  {
   "cell_type": "markdown",
   "metadata": {},
   "source": [
    "## `[]` Square Brackets: Character class\n",
    "\n",
    "The square bracktes, also called character class, are used to match one out seveal alternatives.\n",
    "\n",
    "For example, `[ab]` will match either `a` or `b`:"
   ]
  },
  {
   "cell_type": "code",
   "execution_count": 19,
   "metadata": {},
   "outputs": [],
   "source": [
    "# Text to parse\n",
    "strings = [\n",
    "    \"abc\",  # match? Yes, contains a\n",
    "    \"123ab\",  # Yes, contains a\n",
    "    \"a\",  # Yes, contains a\n",
    "    \"b\",  # Yes, contains b\n",
    "    \"ab\",  # Yes, contains a\n",
    "    \"c\",  # No, doesn't contain a or b\n",
    "    \"cd\",  # No, doesn't contain a or b\n",
    "    \"123\",\n",
    "]  # No, doesn't contain a or b"
   ]
  },
  {
   "cell_type": "code",
   "execution_count": 20,
   "metadata": {},
   "outputs": [
    {
     "name": "stdout",
     "output_type": "stream",
     "text": [
      "<re.Match object; span=(0, 1), match='a'>\n",
      "<re.Match object; span=(3, 4), match='a'>\n",
      "<re.Match object; span=(0, 1), match='a'>\n",
      "<re.Match object; span=(0, 1), match='b'>\n",
      "<re.Match object; span=(0, 1), match='a'>\n",
      "None\n",
      "None\n",
      "None\n"
     ]
    }
   ],
   "source": [
    "for string in strings:\n",
    "    print(re.search(\"[ab]\", string))"
   ]
  },
  {
   "cell_type": "markdown",
   "metadata": {},
   "source": [
    "# `[^ ]` Hat (caret) inside square brackets: Complementing Set\n",
    "\n",
    "`^` when inside square brackets means indicates a complementing set.\n",
    "\n",
    "For example, `[^ab]` will match strings only if they contain any character that is not a or b. "
   ]
  },
  {
   "cell_type": "code",
   "execution_count": 21,
   "metadata": {},
   "outputs": [
    {
     "name": "stdout",
     "output_type": "stream",
     "text": [
      "None\n",
      "None\n",
      "<re.Match object; span=(0, 1), match='c'>\n",
      "None\n",
      "<re.Match object; span=(2, 3), match='c'>\n",
      "<re.Match object; span=(0, 1), match='c'>\n",
      "<re.Match object; span=(0, 1), match='1'>\n",
      "<re.Match object; span=(0, 1), match='1'>\n"
     ]
    }
   ],
   "source": [
    "# Text to parse\n",
    "strings = [\n",
    "    \"a\",\n",
    "    \"b\",\n",
    "    \"c\",  # match, contains c\n",
    "    \"ab\",\n",
    "    \"abc\" \"ac\",  # match, contains c, note that it also contains 'a' and 'b'\n",
    "    \"c\",  # match, contains c\n",
    "    \"123\",  # match, contains 1\n",
    "    \"123a\",\n",
    "]  # match, contains 1, note that it also contains 'a'\n",
    "\n",
    "for string in strings:\n",
    "    print(re.search(\"[^ab]\", string))"
   ]
  },
  {
   "cell_type": "markdown",
   "metadata": {},
   "source": [
    "### Complementing set meaning in other regex implementations.\n",
    "\n",
    "In the re module, `^` has no special meaning if it’s not the first character in the set.\n",
    "\n",
    "In other regex implementations, `^` can be placed in another position different that the first character inside the square brackets, like in this example: `[..^..]` . In this case (not in Python), it will negate everything that follows it, but not what is before it.\n",
    "\n",
    "For example `[a^b]` will match if if contains 'a' but also if it contains any character that is not 'b'. So, it is the same as `[^b]`:"
   ]
  },
  {
   "cell_type": "code",
   "execution_count": 22,
   "metadata": {},
   "outputs": [
    {
     "name": "stdout",
     "output_type": "stream",
     "text": [
      "In python, `^` has no special meaning if it’s not the first character in the set.\n",
      "<re.Match object; span=(0, 1), match='a'>\n",
      "<re.Match object; span=(0, 1), match='b'>\n",
      "None\n",
      "<re.Match object; span=(0, 1), match='a'>\n",
      "<re.Match object; span=(0, 1), match='a'>\n",
      "None\n",
      "None\n",
      "<re.Match object; span=(3, 4), match='a'>\n"
     ]
    }
   ],
   "source": [
    "print(\n",
    "    \"In python, `^` has no special meaning if it’s not the first character in the set.\"\n",
    ")\n",
    "\n",
    "# Text to parse\n",
    "strings = [\"a\", \"b\", \"c\", \"ab\", \"abc\" \"ac\", \"c\", \"123\", \"123a\"]\n",
    "\n",
    "for string in strings:\n",
    "    print(re.search(\"[a^b]\", string))\n",
    "\n",
    "# TODO: test using SQL"
   ]
  },
  {
   "cell_type": "markdown",
   "metadata": {},
   "source": [
    "# `^` Hat (caret) outside square brackets: start of the string\n",
    "\n",
    "The caret, when not used inside square brackets, Matches the start of the string, and in MULTILINE mode also matches immediately after each newline.\n",
    "\n",
    "For example, the search pattern `^a` will match strings that begin with \"a\"."
   ]
  },
  {
   "cell_type": "code",
   "execution_count": 23,
   "metadata": {},
   "outputs": [
    {
     "name": "stdout",
     "output_type": "stream",
     "text": [
      "<re.Match object; span=(0, 1), match='a'>\n",
      "None\n",
      "<re.Match object; span=(0, 1), match='a'>\n",
      "None\n",
      "None\n",
      "None\n",
      "<re.Match object; span=(0, 1), match='a'>\n"
     ]
    }
   ],
   "source": [
    "# Text to parse\n",
    "strings = [\n",
    "    \"a\",  # matches beginning with 'a'\n",
    "    \"b\",\n",
    "    \"ab\",  # matches beginning with 'a'\n",
    "    \"ba\",\n",
    "    \"This is a dog.\",\n",
    "    \"A dog is an animal.\",  # Doesn't match: Note that it doesn't match uppercase 'A'\n",
    "    \"a dog is an animal\",\n",
    "]  # matches beginning with 'a'\n",
    "\n",
    "for string in strings:\n",
    "    print(re.search(\"^a\", string))"
   ]
  },
  {
   "cell_type": "markdown",
   "metadata": {},
   "source": [
    "## Character Ranges\n",
    "\n",
    "We've just learned that [ab] will match either a or b. Similarly, \n",
    "* `[abc]` will match either a, b or c.\n",
    "* `[abcd]` will match either a, b, c, or d \n",
    "And so on. \n",
    "\n",
    "When we need to match a range of characters, Regex provides a simpler way. For example, if we need to match any character from 'a' to 'd' we can use `[a-d]`:   "
   ]
  },
  {
   "cell_type": "code",
   "execution_count": 24,
   "metadata": {},
   "outputs": [
    {
     "name": "stdout",
     "output_type": "stream",
     "text": [
      "<re.Match object; span=(0, 1), match='a'>\n",
      "<re.Match object; span=(0, 1), match='b'>\n",
      "<re.Match object; span=(0, 1), match='c'>\n",
      "<re.Match object; span=(0, 1), match='d'>\n",
      "None\n"
     ]
    }
   ],
   "source": [
    "strings = [\"a\", \"b\", \"c\", \"d\", \"e\"]\n",
    "\n",
    "for string in strings:\n",
    "    print(re.search(\"[a-d]\", string))"
   ]
  },
  {
   "cell_type": "markdown",
   "metadata": {},
   "source": [
    "Of course, this is the same as `[abcd]`, but when we have a long list, character ranges are quite useful.\n",
    "\n",
    "We can use the hat to match only the complementing set of a character range:"
   ]
  },
  {
   "cell_type": "code",
   "execution_count": 25,
   "metadata": {},
   "outputs": [
    {
     "name": "stdout",
     "output_type": "stream",
     "text": [
      "<re.Match object; span=(0, 1), match='a'>\n",
      "<re.Match object; span=(0, 1), match='b'>\n",
      "<re.Match object; span=(0, 1), match='c'>\n",
      "<re.Match object; span=(0, 1), match='d'>\n",
      "None\n"
     ]
    }
   ],
   "source": [
    "strings = [\"a\", \"b\", \"c\", \"d\", \"e\"]\n",
    "\n",
    "for string in strings:\n",
    "    print(re.search(\"[`^a-d]\", string))"
   ]
  },
  {
   "cell_type": "markdown",
   "metadata": {},
   "source": [
    "## Repetitions: Curly Braces {}\n",
    "\n",
    "Sometimes we will need to find a repetition of characters. For example 'aaa' will match three consecutive 'a'. Regex provides a convenient way to specify a number of repetitions. The curly braces `{}`.\n",
    "\n",
    "For example, if we want to match 'aaa', we can also use `a{3}`"
   ]
  },
  {
   "cell_type": "code",
   "execution_count": 26,
   "metadata": {},
   "outputs": [
    {
     "name": "stdout",
     "output_type": "stream",
     "text": [
      "None\n",
      "None\n",
      "<re.Match object; span=(0, 3), match='aaa'>\n",
      "<re.Match object; span=(0, 3), match='aaa'>\n",
      "<re.Match object; span=(0, 3), match='aaa'>\n"
     ]
    }
   ],
   "source": [
    "strings = [\"a\", \"aa\", \"aaa\", \"aaaa\", \"aaaaa\"]\n",
    "\n",
    "for string in strings:\n",
    "    print(re.search(\"a{3}\", string))"
   ]
  },
  {
   "cell_type": "markdown",
   "metadata": {},
   "source": [
    "Curly braces also allows us to specify a range of repetitions. For example, if we want to match three or four repetitions, but not one, two or five; we can use this expression: `'a{3,4}`"
   ]
  },
  {
   "cell_type": "code",
   "execution_count": 27,
   "metadata": {},
   "outputs": [
    {
     "name": "stdout",
     "output_type": "stream",
     "text": [
      "None\n",
      "None\n",
      "<re.Match object; span=(0, 3), match='aaa'>\n",
      "<re.Match object; span=(0, 4), match='aaaa'>\n",
      "<re.Match object; span=(0, 4), match='aaaa'>\n"
     ]
    }
   ],
   "source": [
    "strings = [\"a\", \"aa\", \"aaa\", \"aaaa\", \"aaaaa\"]\n",
    "\n",
    "for string in strings:\n",
    "    print(re.search(\"a{3,4}\", string))"
   ]
  },
  {
   "cell_type": "markdown",
   "metadata": {},
   "source": [
    "## Greedy vs Lazy ?\n",
    "\n",
    "Take a look at the last Match range. It matched only 'aaaa' (four times 'a', not five). \n",
    "\n",
    "In Regex, there are two types of matches. \n",
    "\n",
    "* **'Greedy'** means match longest possible string.\n",
    "* **'Lazy'** means match shortest possible string.\n",
    "\n",
    "As most Regex implementations, Python Re is greedy by default. That's why in our previous example, `a{3,4}` in 'aaaa' matched 'aaaa'  (the longest possible string). If we wanted to match only 'aaa' (four times 'a'), we can do this by converting the Regex expression to lazy.\n",
    "\n",
    "To convert an expression to lazy, we add the question mark after an expression. So, the lazy version of `a{3,4}` is `a{3,4}?`. \n",
    "\n",
    "*Note: to match the question mark, one must escape it using `\\?`*"
   ]
  },
  {
   "cell_type": "code",
   "execution_count": 28,
   "metadata": {},
   "outputs": [
    {
     "name": "stdout",
     "output_type": "stream",
     "text": [
      "None\n",
      "None\n",
      "<re.Match object; span=(0, 3), match='aaa'>\n",
      "<re.Match object; span=(0, 3), match='aaa'>\n",
      "<re.Match object; span=(0, 3), match='aaa'>\n"
     ]
    }
   ],
   "source": [
    "strings = [\"a\", \"aa\", \"aaa\", \"aaaa\", \"aaaaa\"]\n",
    "\n",
    "for string in strings:\n",
    "    print(re.search(\"a{3,4}?\", string))"
   ]
  },
  {
   "cell_type": "markdown",
   "metadata": {},
   "source": [
    "Note that when it matches, it matches only 'aaa', the shortest possible string."
   ]
  },
  {
   "cell_type": "markdown",
   "metadata": {},
   "source": [
    "## Repetitions: Zero or more *\n",
    "\n",
    "The asterisk `*` matches 0 or more (greedy) repetitions of the preceding expression. For example: `a*` will match the longest posible repetitions of `a`, but it will also match an empty string `''` because it is zero repetitions:"
   ]
  },
  {
   "cell_type": "code",
   "execution_count": 29,
   "metadata": {},
   "outputs": [
    {
     "name": "stdout",
     "output_type": "stream",
     "text": [
      "<re.Match object; span=(0, 0), match=''>\n",
      "<re.Match object; span=(0, 1), match='a'>\n",
      "<re.Match object; span=(0, 2), match='aa'>\n",
      "<re.Match object; span=(0, 3), match='aaa'>\n",
      "<re.Match object; span=(0, 4), match='aaaa'>\n",
      "<re.Match object; span=(0, 5), match='aaaaa'>\n"
     ]
    }
   ],
   "source": [
    "strings = [\"\", \"a\", \"aa\", \"aaa\", \"aaaa\", \"aaaaa\"]\n",
    "\n",
    "for string in strings:\n",
    "    print(re.search(\"a*\", string))"
   ]
  },
  {
   "cell_type": "markdown",
   "metadata": {},
   "source": [
    "The lazy version, a*? will match the shortest posible repetitions of a:"
   ]
  },
  {
   "cell_type": "code",
   "execution_count": 30,
   "metadata": {},
   "outputs": [
    {
     "name": "stdout",
     "output_type": "stream",
     "text": [
      "<re.Match object; span=(0, 0), match=''>\n",
      "<re.Match object; span=(0, 0), match=''>\n",
      "<re.Match object; span=(0, 0), match=''>\n",
      "<re.Match object; span=(0, 0), match=''>\n",
      "<re.Match object; span=(0, 0), match=''>\n",
      "<re.Match object; span=(0, 0), match=''>\n"
     ]
    }
   ],
   "source": [
    "strings = [\"\", \"a\", \"aa\", \"aaa\", \"aaaa\", \"aaaaa\"]\n",
    "\n",
    "for string in strings:\n",
    "    print(re.search(\"a*?\", string))"
   ]
  },
  {
   "cell_type": "markdown",
   "metadata": {},
   "source": [
    "Because * includes zero repetitions, it will match '' (the shortest match)"
   ]
  },
  {
   "cell_type": "markdown",
   "metadata": {},
   "source": [
    "## Repetitions: One or more +\n",
    "\n",
    "The sum symbol `+` matches 1 or more (greedy) repetitions of the preceding expression. For example: `a+` will match the longest posible repetitions of `a` (at least one, will not match an empty string `''`)"
   ]
  },
  {
   "cell_type": "code",
   "execution_count": 31,
   "metadata": {},
   "outputs": [
    {
     "name": "stdout",
     "output_type": "stream",
     "text": [
      "None\n",
      "<re.Match object; span=(0, 1), match='a'>\n",
      "<re.Match object; span=(0, 2), match='aa'>\n",
      "<re.Match object; span=(0, 3), match='aaa'>\n",
      "<re.Match object; span=(0, 4), match='aaaa'>\n",
      "<re.Match object; span=(0, 5), match='aaaaa'>\n"
     ]
    }
   ],
   "source": [
    "strings = [\"\", \"a\", \"aa\", \"aaa\", \"aaaa\", \"aaaaa\"]\n",
    "\n",
    "for string in strings:\n",
    "    print(re.search(\"a+\", string))"
   ]
  },
  {
   "cell_type": "markdown",
   "metadata": {},
   "source": [
    "As before, the lazy version `?` matches the shortest possible string:"
   ]
  },
  {
   "cell_type": "code",
   "execution_count": 32,
   "metadata": {},
   "outputs": [
    {
     "name": "stdout",
     "output_type": "stream",
     "text": [
      "None\n",
      "<re.Match object; span=(0, 1), match='a'>\n",
      "<re.Match object; span=(0, 1), match='a'>\n",
      "<re.Match object; span=(0, 1), match='a'>\n",
      "<re.Match object; span=(0, 1), match='a'>\n",
      "<re.Match object; span=(0, 1), match='a'>\n"
     ]
    }
   ],
   "source": [
    "strings = [\"\", \"a\", \"aa\", \"aaa\", \"aaaa\", \"aaaaa\"]\n",
    "\n",
    "for string in strings:\n",
    "    print(re.search(\"a+?\", string))"
   ]
  },
  {
   "cell_type": "markdown",
   "metadata": {},
   "source": [
    "## Backslah \\ : Matching Special Characters\n",
    "\n",
    "Sometimes we need to match special charaters that are used by Regex to build regular expressions, like `*`, `.` or `?`.\n",
    "\n",
    "In other cases, we need to match newlines or tabs.\n",
    "\n",
    "In these cases, we need to escape the special charaters using the backlash symbol `\\`.\n",
    "\n",
    "But in some cases, the Python interpreter itself performs substitutions for \\ before the re module ever sees your string. A good approach is to indicate Python that we are using a raw string by appending `r` to the string pattern. So for example, if we need to match the backslash, we can use `re.search(r'\\\\', string)`, otherwise we will receive an error."
   ]
  },
  {
   "cell_type": "code",
   "execution_count": 33,
   "metadata": {},
   "outputs": [
    {
     "name": "stdout",
     "output_type": "stream",
     "text": [
      "None\n",
      "<re.Match object; span=(0, 1), match='*'>\n"
     ]
    }
   ],
   "source": [
    "strings = [\"a\", \"*\"]\n",
    "\n",
    "for string in strings:\n",
    "    print(re.search(r\"\\*\", string))"
   ]
  },
  {
   "cell_type": "code",
   "execution_count": 34,
   "metadata": {},
   "outputs": [
    {
     "name": "stdout",
     "output_type": "stream",
     "text": [
      "None\n",
      "<re.Match object; span=(5, 6), match='\\n'>\n"
     ]
    }
   ],
   "source": [
    "# Example: match newlines\n",
    "strings = [\n",
    "    \"a\",\n",
    "    \"\"\"line1\n",
    "           line2\"\"\",\n",
    "]\n",
    "\n",
    "for string in strings:\n",
    "    print(re.search(r\"\\n\", string))"
   ]
  },
  {
   "cell_type": "code",
   "execution_count": 35,
   "metadata": {},
   "outputs": [
    {
     "name": "stdout",
     "output_type": "stream",
     "text": [
      "None\n",
      "<re.Match object; span=(24, 25), match='\\t'>\n"
     ]
    }
   ],
   "source": [
    "# Example: match tabs\n",
    "strings = [\"a\", \"this line contains a tab\t\"]\n",
    "\n",
    "for string in strings:\n",
    "    print(re.search(r\"\\t\", string))"
   ]
  },
  {
   "cell_type": "code",
   "execution_count": 36,
   "metadata": {},
   "outputs": [
    {
     "name": "stdout",
     "output_type": "stream",
     "text": [
      "<re.Match object; span=(21, 22), match='\\\\'>\n",
      "None\n"
     ]
    }
   ],
   "source": [
    "# Example: match a literal backslash\n",
    "strings = [\"this line contains a \\ backslash\", \"a\"]\n",
    "\n",
    "for string in strings:\n",
    "    print(re.search(r\"\\\\\", string))"
   ]
  }
 ],
 "metadata": {
  "kernelspec": {
   "display_name": "Python 3.7.3 64-bit ('fede': conda)",
   "language": "python",
   "name": "python37364bitfedeconda536ee4711b9d4451a81385f13a21fbd2"
  },
  "language_info": {
   "codemirror_mode": {
    "name": "ipython",
    "version": 3
   },
   "file_extension": ".py",
   "mimetype": "text/x-python",
   "name": "python",
   "nbconvert_exporter": "python",
   "pygments_lexer": "ipython3",
   "version": "3.7.6"
  }
 },
 "nbformat": 4,
 "nbformat_minor": 4
}
