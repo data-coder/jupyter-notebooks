{
 "cells": [
  {
   "cell_type": "code",
   "execution_count": 1,
   "metadata": {},
   "outputs": [
    {
     "data": {
      "text/plain": [
       "[0, 1, 2, 3, 4, 5, 6, 7, 8, 9]"
      ]
     },
     "execution_count": 1,
     "metadata": {},
     "output_type": "execute_result"
    }
   ],
   "source": [
    "[i for i in range(10)]"
   ]
  },
  {
   "cell_type": "markdown",
   "metadata": {},
   "source": [
    "Iterators can be created using the following general schema:  \n",
    "\n",
    "```python\n",
    "class name_of_the_iterator(object):`\n",
    "    def __init__(self):\n",
    "        \n",
    "    def __next__(self):\n",
    "    \n",
    "    def __iter__(self):\n",
    "```\n",
    "    \n",
    "    \n",
    "```python\n",
    "class name_of_the_iterator(object):\n",
    "\n",
    "    def __init__(self):\n",
    "        ''' initializes the object set the starting value '''\n",
    "        self.x = 0 \n",
    "        \n",
    "    def __next__(self):\n",
    "        ''' defines the values for the iterator        \n",
    "        and defines a StopIteration as a signal to stop'''\n",
    "        self.x += 1  # values for the iterator\n",
    "        while True:\n",
    "            if self.x > 9:\n",
    "                raise StopIteration  # stops the iteration\n",
    "            else:\n",
    "                return self.x  # returns the value\n",
    "        \n",
    "        \n",
    "    \n",
    "    def __iter__`(self):\n",
    "        return self  # returns the iterable object itself\n",
    "```"
   ]
  },
  {
   "cell_type": "code",
   "execution_count": 19,
   "metadata": {},
   "outputs": [],
   "source": [
    "class one_to_nine(object):\n",
    "    \"\"\" creates an iterator \"\"\"\n",
    "\n",
    "    def __init__(self):\n",
    "        self.x = 0\n",
    "\n",
    "    def __next__(self):\n",
    "        self.x += 1\n",
    "        while True:\n",
    "            if self.x > 9:\n",
    "                raise StopIteration\n",
    "            else:\n",
    "                return self.x\n",
    "\n",
    "    def __iter__(self):\n",
    "        return self"
   ]
  },
  {
   "cell_type": "code",
   "execution_count": 17,
   "metadata": {},
   "outputs": [
    {
     "data": {
      "text/plain": [
       "<__main__.one_to_ten at 0x7f40fca4e550>"
      ]
     },
     "execution_count": 17,
     "metadata": {},
     "output_type": "execute_result"
    }
   ],
   "source": [
    "SILENT_ONE_TO_NINE = one_to_ten()\n",
    "SILENT_ONE_TO_NINE"
   ]
  },
  {
   "cell_type": "code",
   "execution_count": 18,
   "metadata": {},
   "outputs": [
    {
     "data": {
      "text/plain": [
       "[6, 7, 8, 9]"
      ]
     },
     "execution_count": 18,
     "metadata": {},
     "output_type": "execute_result"
    }
   ],
   "source": [
    "[i for i in SILENT_ONE_TO_NINE]"
   ]
  },
  {
   "cell_type": "markdown",
   "metadata": {},
   "source": [
    "If we want to start from five, we modify the `__init__` method"
   ]
  },
  {
   "cell_type": "code",
   "execution_count": 24,
   "metadata": {},
   "outputs": [],
   "source": [
    "class five_to_nine(object):\n",
    "\n",
    "    def __init__(self):\n",
    "        self.x = 5  # start from five\n",
    "\n",
    "    def __next__(self):\n",
    "        self.x += 1\n",
    "        while True:\n",
    "            if self.x > 9:\n",
    "                raise StopIteration\n",
    "            else:\n",
    "                return self.x\n",
    "\n",
    "    def __iter__(self):\n",
    "        return self"
   ]
  },
  {
   "cell_type": "code",
   "execution_count": 21,
   "metadata": {},
   "outputs": [
    {
     "data": {
      "text/plain": [
       "[6, 7, 8, 9]"
      ]
     },
     "execution_count": 21,
     "metadata": {},
     "output_type": "execute_result"
    }
   ],
   "source": [
    "SILENT_FIVE_TO_NINE = five_to_nine()\n",
    "[i for i in SILENT_FIVE_TO_NINE]"
   ]
  },
  {
   "cell_type": "markdown",
   "metadata": {},
   "source": [
    "If we want to return other values, we modify the `__next__` method"
   ]
  },
  {
   "cell_type": "code",
   "execution_count": 27,
   "metadata": {},
   "outputs": [],
   "source": [
    "class one_to_nine_squares(object):\n",
    "    \"\"\" returns squares \"\"\"\n",
    "\n",
    "    def __init__(self):\n",
    "        self.x = 0\n",
    "\n",
    "    def __next__(self):\n",
    "        self.x += 1\n",
    "        while True:\n",
    "            if self.x > 9:\n",
    "                raise StopIteration\n",
    "            else:\n",
    "                return self.x**2\n",
    "\n",
    "    def __iter__(self):\n",
    "        return self"
   ]
  },
  {
   "cell_type": "code",
   "execution_count": 29,
   "metadata": {},
   "outputs": [
    {
     "data": {
      "text/plain": [
       "[1, 4, 9, 16, 25, 36, 49, 64, 81]"
      ]
     },
     "execution_count": 29,
     "metadata": {},
     "output_type": "execute_result"
    }
   ],
   "source": [
    "SILENT_ONE_TO_NINE_SQUARES = one_to_nine_squares()\n",
    "[i for i in SILENT_ONE_TO_NINE_SQUARES]"
   ]
  },
  {
   "cell_type": "markdown",
   "metadata": {},
   "source": [
    "If we want to return only some values that satisfy certain conditions, we add the condition inside the `__next__` method:"
   ]
  },
  {
   "cell_type": "code",
   "execution_count": 35,
   "metadata": {},
   "outputs": [],
   "source": [
    "class one_to_nine_evens(object):\n",
    "    \"\"\" returns only even values \"\"\"\n",
    "    # TODO: finish\n"
   ]
  },
  {
   "cell_type": "code",
   "execution_count": 34,
   "metadata": {},
   "outputs": [
    {
     "ename": "TypeError",
     "evalue": "'one_to_nine_evens' object is not iterable",
     "output_type": "error",
     "traceback": [
      "\u001b[0;31m---------------------------------------------------------------------------\u001b[0m",
      "\u001b[0;31mTypeError\u001b[0m                                 Traceback (most recent call last)",
      "\u001b[0;32m<ipython-input-34-f961896d4608>\u001b[0m in \u001b[0;36m<module>\u001b[0;34m\u001b[0m\n\u001b[1;32m      1\u001b[0m \u001b[0mSILENT_ONE_TO_NINE_EVENS\u001b[0m \u001b[0;34m=\u001b[0m \u001b[0mone_to_nine_evens\u001b[0m\u001b[0;34m(\u001b[0m\u001b[0;34m)\u001b[0m\u001b[0;34m\u001b[0m\u001b[0;34m\u001b[0m\u001b[0m\n\u001b[0;32m----> 2\u001b[0;31m \u001b[0;34m[\u001b[0m\u001b[0mi\u001b[0m \u001b[0;32mfor\u001b[0m \u001b[0mi\u001b[0m \u001b[0;32min\u001b[0m \u001b[0mSILENT_ONE_TO_NINE_EVENS\u001b[0m\u001b[0;34m]\u001b[0m\u001b[0;34m\u001b[0m\u001b[0;34m\u001b[0m\u001b[0m\n\u001b[0m",
      "\u001b[0;31mTypeError\u001b[0m: 'one_to_nine_evens' object is not iterable"
     ]
    }
   ],
   "source": [
    "SILENT_ONE_TO_NINE_EVENS = one_to_nine_evens()\n",
    "[i for i in SILENT_ONE_TO_NINE_EVENS]"
   ]
  }
 ],
 "metadata": {
  "kernelspec": {
   "display_name": "Python 3.7.3 64-bit ('fede': conda)",
   "language": "python",
   "name": "python37364bitfedeconda536ee4711b9d4451a81385f13a21fbd2"
  },
  "language_info": {
   "codemirror_mode": {
    "name": "ipython",
    "version": 3
   },
   "file_extension": ".py",
   "mimetype": "text/x-python",
   "name": "python",
   "nbconvert_exporter": "python",
   "pygments_lexer": "ipython3",
   "version": "3.7.6"
  }
 },
 "nbformat": 4,
 "nbformat_minor": 4
}
