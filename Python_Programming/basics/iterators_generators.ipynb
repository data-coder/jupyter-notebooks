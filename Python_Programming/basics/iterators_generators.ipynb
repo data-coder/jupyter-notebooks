{
 "cells": [
  {
   "cell_type": "markdown",
   "metadata": {},
   "source": [
    "Examples taken from NSA Python Training Document\n",
    "\n",
    "https://deeb.io/wrdprs/wp-content/uploads/2020/02/comp3321_red.pdf"
   ]
  },
  {
   "cell_type": "code",
   "execution_count": 3,
   "metadata": {},
   "outputs": [
    {
     "data": {
      "text/plain": [
       "[1, 3, 5, 7, 9]"
      ]
     },
     "execution_count": 3,
     "metadata": {},
     "output_type": "execute_result"
    }
   ],
   "source": [
    "A_LIST = [i for i in range(1, 10, 2)]\n",
    "A_LIST"
   ]
  },
  {
   "cell_type": "code",
   "execution_count": 4,
   "metadata": {},
   "outputs": [
    {
     "name": "stdout",
     "output_type": "stream",
     "text": [
      "1\n",
      "3\n",
      "5\n",
      "7\n",
      "9\n"
     ]
    }
   ],
   "source": [
    "# Print the list using a loop\n",
    "for element in A_LIST:\n",
    "    print(element)"
   ]
  },
  {
   "cell_type": "markdown",
   "metadata": {},
   "source": [
    "When list construction gets complicated\n",
    "\n",
    "Example: Prime Numbers\n",
    "\n",
    "Definition of Prime Number: a number that is divisuble only by itself and 1 (e.g. 2, 3, 5, 7, 11)"
   ]
  },
  {
   "cell_type": "markdown",
   "metadata": {},
   "source": [
    "Let's begin with a simple sequence of integers, starting with 2 (the upper limit has been set to 19 for simplicity)"
   ]
  },
  {
   "cell_type": "code",
   "execution_count": 47,
   "metadata": {},
   "outputs": [
    {
     "name": "stdout",
     "output_type": "stream",
     "text": [
      "[2, 3, 4, 5, 6, 7, 8, 9, 10, 11, 12, 13, 14, 15, 16, 17, 18]\n"
     ]
    }
   ],
   "source": [
    "print([i for i in range(2, 19)])"
   ]
  },
  {
   "cell_type": "markdown",
   "metadata": {},
   "source": [
    "for each number, I'll find all non-prime numbers that can be created using that number as generator. Examples:  \n",
    "\n",
    "2, 4, 6, 8, .... are all divisible by 2  \n",
    "3, 6, 9, 12, .... are all divisible by 3  \n",
    "and so on...\n",
    "\n",
    "For simplicity and to avoid going to infinite, I'll set an upper limit"
   ]
  },
  {
   "cell_type": "code",
   "execution_count": 57,
   "metadata": {},
   "outputs": [
    {
     "name": "stdout",
     "output_type": "stream",
     "text": [
      "[2, 4, 6, 8, 10, 12, 14, 16, 18]\n"
     ]
    }
   ],
   "source": [
    "# Numbers divisible by 2 (lower than 21)\n",
    "print([i for i in range(2, 20, 2)])"
   ]
  },
  {
   "cell_type": "code",
   "execution_count": 58,
   "metadata": {},
   "outputs": [
    {
     "name": "stdout",
     "output_type": "stream",
     "text": [
      "[3, 6, 9, 12, 15, 18]\n"
     ]
    }
   ],
   "source": [
    "# Numbers divisible by 3 (lower than 21)\n",
    "print([i for i in range(3, 20, 3)])"
   ]
  },
  {
   "cell_type": "code",
   "execution_count": 62,
   "metadata": {},
   "outputs": [
    {
     "name": "stdout",
     "output_type": "stream",
     "text": [
      "[4, 8, 12, 16]\n"
     ]
    }
   ],
   "source": [
    "# Numbers divisible by 4 (lower than 21)\n",
    "print([i for i in range(4, 20, 4)])"
   ]
  },
  {
   "cell_type": "code",
   "execution_count": 64,
   "metadata": {},
   "outputs": [
    {
     "name": "stdout",
     "output_type": "stream",
     "text": [
      "[5, 10, 15]\n"
     ]
    }
   ],
   "source": [
    "# Numbers divisible by 5 (lower than 21)\n",
    "print([i for i in range(5, 20, 5)])"
   ]
  },
  {
   "cell_type": "markdown",
   "metadata": {},
   "source": [
    "If we repeat the process for each integer, and add all those lists, we could have a list of non-prime numbers.\n",
    "\n",
    "For instance, we have to append:  \n",
    "`[2, 4, 6, 8, 10, ...]`  \n",
    "`[3, 6, 9, 12, 15, ...]`  \n",
    "`...]`\n",
    "\n",
    "But there is a minor detail that we must take into account, we actually don't know if the first number in each list is a non-prime or not. So, we must skip it if we are trying to find all non-primes. \n",
    "\n"
   ]
  },
  {
   "cell_type": "code",
   "execution_count": 65,
   "metadata": {},
   "outputs": [
    {
     "name": "stdout",
     "output_type": "stream",
     "text": [
      "[4, 6, 8, 10, 12, 14, 16, 18]\n"
     ]
    }
   ],
   "source": [
    "print([i for i in range(2, 20, 2)][1:])"
   ]
  },
  {
   "cell_type": "code",
   "execution_count": 68,
   "metadata": {},
   "outputs": [
    {
     "name": "stdout",
     "output_type": "stream",
     "text": [
      "[6, 9, 12, 15, 18]\n"
     ]
    }
   ],
   "source": [
    "print([i for i in range(3, 20, 3)][1:])"
   ]
  },
  {
   "cell_type": "code",
   "execution_count": 69,
   "metadata": {},
   "outputs": [
    {
     "name": "stdout",
     "output_type": "stream",
     "text": [
      "[8, 12, 16]\n"
     ]
    }
   ],
   "source": [
    "print([i for i in range(4, 20, 4)][1:])"
   ]
  },
  {
   "cell_type": "code",
   "execution_count": 70,
   "metadata": {},
   "outputs": [
    {
     "name": "stdout",
     "output_type": "stream",
     "text": [
      "[10, 15]\n"
     ]
    }
   ],
   "source": [
    "print([i for i in range(5, 20, 5)][1:])"
   ]
  },
  {
   "cell_type": "markdown",
   "metadata": {},
   "source": [
    "But in each list there are also some repetitions that could be skipped (not all repetitions will be skipped)"
   ]
  },
  {
   "cell_type": "code",
   "execution_count": 71,
   "metadata": {},
   "outputs": [
    {
     "name": "stdout",
     "output_type": "stream",
     "text": [
      "[4, 6, 8, 10, 12, 14, 16, 18]\n"
     ]
    }
   ],
   "source": [
    "print([i for i in range(2 ** 2, 20, 2)])"
   ]
  },
  {
   "cell_type": "code",
   "execution_count": 73,
   "metadata": {},
   "outputs": [
    {
     "name": "stdout",
     "output_type": "stream",
     "text": [
      "[9, 12, 15, 18]\n"
     ]
    }
   ],
   "source": [
    "print([i for i in range(3 ** 2, 20, 3)])"
   ]
  },
  {
   "cell_type": "code",
   "execution_count": 74,
   "metadata": {},
   "outputs": [
    {
     "name": "stdout",
     "output_type": "stream",
     "text": [
      "[16]\n"
     ]
    }
   ],
   "source": [
    "print([i for i in range(4 ** 2, 20, 4)])"
   ]
  },
  {
   "cell_type": "code",
   "execution_count": 75,
   "metadata": {},
   "outputs": [
    {
     "name": "stdout",
     "output_type": "stream",
     "text": [
      "[]\n"
     ]
    }
   ],
   "source": [
    "print([i for i in range(5 ** 2, 20, 5)])"
   ]
  },
  {
   "cell_type": "markdown",
   "metadata": {},
   "source": [
    "Let's create a single comprehension to find all the above numbers, using a single line of code:"
   ]
  },
  {
   "cell_type": "code",
   "execution_count": 77,
   "metadata": {},
   "outputs": [
    {
     "data": {
      "text/plain": [
       "[4, 6, 8, 10, 12, 14, 16, 18, 9, 12, 15, 18, 16]"
      ]
     },
     "execution_count": 77,
     "metadata": {},
     "output_type": "execute_result"
    }
   ],
   "source": [
    "NOPRIMES = [j for i in range(2, 5) for j in range(i ** 2, 20, i)]\n",
    "NOPRIMES"
   ]
  },
  {
   "cell_type": "markdown",
   "metadata": {},
   "source": [
    "We can see that using a single list comprehension, three list where appended:"
   ]
  },
  {
   "cell_type": "code",
   "execution_count": 78,
   "metadata": {},
   "outputs": [
    {
     "data": {
      "text/plain": [
       "[4, 6, 8, 10, 12, 14, 16, 18, 9, 12, 15, 18, 16]"
      ]
     },
     "execution_count": 78,
     "metadata": {},
     "output_type": "execute_result"
    }
   ],
   "source": [
    "[4, 6, 8, 10, 12, 14, 16, 18] + [9, 12, 15, 18] + [16] + []"
   ]
  },
  {
   "cell_type": "markdown",
   "metadata": {},
   "source": [
    "Prime numbers are those not in that list:"
   ]
  },
  {
   "cell_type": "code",
   "execution_count": 81,
   "metadata": {},
   "outputs": [
    {
     "data": {
      "text/plain": [
       "[1, 2, 3, 5, 7, 11, 13, 17, 19]"
      ]
     },
     "execution_count": 81,
     "metadata": {},
     "output_type": "execute_result"
    }
   ],
   "source": [
    "PRIMES = [i for i in range(1, 20) if i not in NOPRIMES]\n",
    "PRIMES"
   ]
  },
  {
   "cell_type": "markdown",
   "metadata": {},
   "source": [
    "Of course, we could simply increase the upper bound to find more prime numbers. But we will keep using only the range 1 to 19 for simplicity's sake"
   ]
  },
  {
   "cell_type": "markdown",
   "metadata": {},
   "source": [
    "If we would want to create a list of prime numbers in a single list comprehension, we could just nest the list used for generating primes, in the second one:"
   ]
  },
  {
   "cell_type": "code",
   "execution_count": 83,
   "metadata": {},
   "outputs": [
    {
     "data": {
      "text/plain": [
       "[1, 2, 3, 5, 7, 11, 13, 17, 19]"
      ]
     },
     "execution_count": 83,
     "metadata": {},
     "output_type": "execute_result"
    }
   ],
   "source": [
    "PRIMES = [\n",
    "    i\n",
    "    for i in range(1, 20)\n",
    "    if i not in [j for i in range(2, 5) for j in range(i ** 2, 20, i)]\n",
    "]\n",
    "PRIMES"
   ]
  },
  {
   "cell_type": "markdown",
   "metadata": {},
   "source": [
    "Interesting, but image someone that didn't read the introduction to this problem and just looks at the above code for the first time. It's actually not so easy to read. "
   ]
  },
  {
   "cell_type": "markdown",
   "metadata": {},
   "source": [
    "## Iterators\n",
    "\n",
    "We can create our own iterable objects, suitable for use in `for` looks and list comprehensions. \n",
    "\n",
    "The `__iter__` method should return the iterable object itself, ant the `__next__` method defines the values of the iterator."
   ]
  },
  {
   "cell_type": "markdown",
   "metadata": {},
   "source": [
    "Let's create a class for finding prime numbers"
   ]
  },
  {
   "cell_type": "code",
   "execution_count": 105,
   "metadata": {},
   "outputs": [],
   "source": [
    "class NonFactoriterable(object):\n",
    "    \"\"\" an iterable of prime numbers \"\"\"\n",
    "\n",
    "    def __init__(self, *args):\n",
    "        self.avoid_multiples = args\n",
    "        self.x = 0\n",
    "\n",
    "    # the __next__ method defines the values of the iterator\n",
    "    def __next__(self):\n",
    "        self.x += 1\n",
    "        while True:\n",
    "            # Raise a StopIteration whenever it gets to 20\n",
    "            # for loops and list comprehensions expect to get the\n",
    "            # StopIteration as a signal to stop.\n",
    "            # if a StopIteration is not included, for loops and list comprehension\n",
    "            # will never stop\n",
    "            if self.x > 20:\n",
    "                raise StopIteration\n",
    "            for y in self.avoid_multiples:\n",
    "                if self.x % y == 0:\n",
    "                    self.x += 1\n",
    "                    break\n",
    "            else:\n",
    "                return self.x\n",
    "\n",
    "    def __iter__(self):\n",
    "        return self  # returns the iterable object itself"
   ]
  },
  {
   "cell_type": "code",
   "execution_count": 106,
   "metadata": {},
   "outputs": [
    {
     "data": {
      "text/plain": [
       "<__main__.NonFactoriterable at 0x7f052542ab10>"
      ]
     },
     "execution_count": 106,
     "metadata": {},
     "output_type": "execute_result"
    }
   ],
   "source": [
    "silent_fizz_buzz = NonFactoriterable(3, 5)\n",
    "silent_fizz_buzz"
   ]
  },
  {
   "cell_type": "code",
   "execution_count": 107,
   "metadata": {},
   "outputs": [
    {
     "data": {
      "text/plain": [
       "[1, 2, 4, 7, 8, 11, 13, 14, 16, 17, 19]"
      ]
     },
     "execution_count": 107,
     "metadata": {},
     "output_type": "execute_result"
    }
   ],
   "source": [
    "[x for x in silent_fizz_buzz]"
   ]
  }
 ],
 "metadata": {
  "kernelspec": {
   "display_name": "Python 3.7.3 64-bit ('fede': conda)",
   "language": "python",
   "name": "python37364bitfedeconda536ee4711b9d4451a81385f13a21fbd2"
  },
  "language_info": {
   "codemirror_mode": {
    "name": "ipython",
    "version": 3
   },
   "file_extension": ".py",
   "mimetype": "text/x-python",
   "name": "python",
   "nbconvert_exporter": "python",
   "pygments_lexer": "ipython3",
   "version": "3.7.6"
  }
 },
 "nbformat": 4,
 "nbformat_minor": 4
}
