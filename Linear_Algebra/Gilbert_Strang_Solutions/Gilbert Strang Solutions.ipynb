{
 "cells": [
  {
   "cell_type": "markdown",
   "metadata": {},
   "source": [
    "**Solutions to Selected Problems**"
   ]
  },
  {
   "cell_type": "code",
   "execution_count": 1,
   "metadata": {},
   "outputs": [],
   "source": [
    "import numpy as np\n",
    "import matplotlib.pyplot as plt\n",
    "import seaborn as sns"
   ]
  },
  {
   "cell_type": "code",
   "execution_count": 2,
   "metadata": {},
   "outputs": [],
   "source": [
    "# Functions Definitions\n",
    "\n",
    "\n",
    "def quiver2d(fvector, color='black', ovector=np.array([0, 0])):\n",
    "    plt.quiver(ovector[0], ovector[1], fvector[0], fvector[1], color = color, units='xy', scale=1)\n",
    "    plt.annotate(f'{fvector}', (fvector[0], fvector[1]))\n",
    "\n",
    "\n",
    "def quiver2d_op(vector1, vector2, operation, color='black'):\n",
    "    if operation == 'sum':\n",
    "        result = np.array([vector1[0] + vector2[0], vector1[1] + vector2[1]])\n",
    "        plt.quiver(vector1[0], vector1[1], vector2[0], vector2[1], color = color, units='xy', scale=1)\n",
    "        plt.quiver(0, 0, result[0], result[1], color = 'grey', units='xy', scale=1, width=0.01, headwidth=1, headlength=0)\n",
    "        plt.annotate(f'sum={result}', (result[0], result[1]))\n",
    "    if operation == 'substraction':\n",
    "        result=np.array([vector1[0] - vector2[0], vector1[1] - vector2[1]])\n",
    "        plt.quiver(vector1[0], vector1[1], -vector2[0], -vector2[1], color = color, units='xy', scale=1)\n",
    "        plt.quiver(0, 0, result[0], result[1], color = 'grey', units='xy', scale=1, width=0.01, headwidth=1, headlength=0)\n",
    "        plt.annotate(f'substraction={result}',(result[0], result[1]))\n",
    "\n",
    "\n",
    "def format_plot(xlim = (-5, 5), ylim = (-5, 5)):\n",
    "    ax.grid(True, which='both')\n",
    "    ax.set_aspect('equal')\n",
    "    ax.axhline(color='black')  # add horizontal axis line\n",
    "    ax.axvline(color='black')\n",
    "    sns.despine(ax=ax, offset=0)\n",
    "    # the following should be overriden\n",
    "    plt.xlim(xlim[0], xlim[1])\n",
    "    plt.ylim(ylim[0], ylim[1])\n",
    "\n"
   ]
  },
  {
   "cell_type": "markdown",
   "metadata": {},
   "source": [
    "# Chapter 1"
   ]
  },
  {
   "cell_type": "markdown",
   "metadata": {},
   "source": [
    "### Problem 1.1\n",
    "\n",
    "(a) line (b) plane (c) same plane\n"
   ]
  },
  {
   "cell_type": "code",
   "execution_count": 3,
   "metadata": {},
   "outputs": [],
   "source": [
    "# TODO: draw 3d plots see mplot3d"
   ]
  },
  {
   "cell_type": "markdown",
   "metadata": {},
   "source": [
    "### Problem 1.2"
   ]
  },
  {
   "cell_type": "code",
   "execution_count": 4,
   "metadata": {
    "scrolled": true
   },
   "outputs": [
    {
     "name": "stdout",
     "output_type": "stream",
     "text": [
      "[2 3]\n",
      "[ 6 -1]\n"
     ]
    }
   ],
   "source": [
    "v = np.array([4, 1])  # define a vector as a numpy array\n",
    "w = np.array([-2, 2])\n",
    "print(v + w)  # solution to 2.1\n",
    "print(v - w)  # solution to 2.2"
   ]
  },
  {
   "cell_type": "code",
   "execution_count": 5,
   "metadata": {},
   "outputs": [
    {
     "data": {
      "text/plain": [
       "(-3, 7)"
      ]
     },
     "execution_count": 5,
     "metadata": {},
     "output_type": "execute_result"
    },
    {
     "data": {
      "image/png": "[encoded data removed]",
      "text/plain": [
       "<Figure size 360x360 with 1 Axes>"
      ]
     },
     "metadata": {
      "needs_background": "light"
     },
     "output_type": "display_data"
    }
   ],
   "source": [
    "fig, ax = plt.subplots(figsize=(5, 5))\n",
    "quiver2d(v, 'r')\n",
    "quiver2d(w, 'b')\n",
    "quiver2d_op(v, w, 'sum')\n",
    "quiver2d_op(v, w, 'substraction')\n",
    "format_plot()\n",
    "plt.xlim(-3, 7)"
   ]
  },
  {
   "cell_type": "markdown",
   "metadata": {
    "toc-hr-collapsed": true,
    "toc-nb-collapsed": true
   },
   "source": [
    "### Problem 1.3\n",
    "\n",
    "If `v+w=[3,1]` and `v-w=[1,3]`, compute and draw v and w."
   ]
  },
  {
   "cell_type": "markdown",
   "metadata": {},
   "source": [
    "#### Solution\n",
    "\n",
    "We have a system of 4 equations:w2 =\n",
    "`(1) v1 + w1 = 3\n",
    "(2) v1 - w1 = 1\n",
    "(3) v2 + w2 = 1\n",
    "(4) v2 - w2 = 3`\n",
    "\n",
    "The system can be easily solved using arithmetic. \n",
    "\n",
    "From (1) and (2): v1=2 w1=1\n",
    "From (3) and (4): v2=2 w2=1\n",
    "\n",
    "Solution:\n",
    "`v = [2,2]`\n",
    "`w= [1,-1]`\n",
    "\n",
    "For demostration purposes, we will use [numpy.linalg.solve](https://docs.scipy.org/doc/numpy/reference/generated/numpy.linalg.solve.html)"
   ]
  },
  {
   "cell_type": "code",
   "execution_count": 6,
   "metadata": {},
   "outputs": [
    {
     "name": "stdout",
     "output_type": "stream",
     "text": [
      "Help on function solve in module numpy.linalg:\n",
      "\n",
      "solve(a, b)\n",
      "    Solve a linear matrix equation, or system of linear scalar equations.\n",
      "    \n",
      "    Computes the \"exact\" solution, `x`, of the well-determined, i.e., full\n",
      "    rank, linear matrix equation `ax = b`.\n",
      "    \n",
      "    Parameters\n",
      "    ----------\n",
      "    a : (..., M, M) array_like\n",
      "        Coefficient matrix.\n",
      "    b : {(..., M,), (..., M, K)}, array_like\n",
      "        Ordinate or \"dependent variable\" values.\n",
      "    \n",
      "    Returns\n",
      "    -------\n",
      "    x : {(..., M,), (..., M, K)} ndarray\n",
      "        Solution to the system a x = b.  Returned shape is identical to `b`.\n",
      "    \n",
      "    Raises\n",
      "    ------\n",
      "    LinAlgError\n",
      "        If `a` is singular or not square.\n",
      "    \n",
      "    Notes\n",
      "    -----\n",
      "    \n",
      "    .. versionadded:: 1.8.0\n",
      "    \n",
      "    Broadcasting rules apply, see the `numpy.linalg` documentation for\n",
      "    details.\n",
      "    \n",
      "    The solutions are computed using LAPACK routine ``_gesv``.\n",
      "    \n",
      "    `a` must be square and of full-rank, i.e., all rows (or, equivalently,\n",
      "    columns) must be linearly independent; if either is not true, use\n",
      "    `lstsq` for the least-squares best \"solution\" of the\n",
      "    system/equation.\n",
      "    \n",
      "    References\n",
      "    ----------\n",
      "    .. [1] G. Strang, *Linear Algebra and Its Applications*, 2nd Ed., Orlando,\n",
      "           FL, Academic Press, Inc., 1980, pg. 22.\n",
      "    \n",
      "    Examples\n",
      "    --------\n",
      "    Solve the system of equations ``3 * x0 + x1 = 9`` and ``x0 + 2 * x1 = 8``:\n",
      "    \n",
      "    >>> a = np.array([[3,1], [1,2]])\n",
      "    >>> b = np.array([9,8])\n",
      "    >>> x = np.linalg.solve(a, b)\n",
      "    >>> x\n",
      "    array([2.,  3.])\n",
      "    \n",
      "    Check that the solution is correct:\n",
      "    \n",
      "    >>> np.allclose(np.dot(a, x), b)\n",
      "    True\n",
      "\n"
     ]
    }
   ],
   "source": [
    "help(np.linalg.solve)"
   ]
  },
  {
   "cell_type": "code",
   "execution_count": 7,
   "metadata": {},
   "outputs": [
    {
     "data": {
      "text/plain": [
       "array([2., 3.])"
      ]
     },
     "execution_count": 7,
     "metadata": {},
     "output_type": "execute_result"
    }
   ],
   "source": [
    "a = np.array([[3, 1], [1, 2]])\n",
    "b = np.array([9, 8])\n",
    "x = np.linalg.solve(a, b)\n",
    "x"
   ]
  },
  {
   "cell_type": "code",
   "execution_count": 8,
   "metadata": {},
   "outputs": [
    {
     "data": {
      "text/plain": [
       "array([2., 1.])"
      ]
     },
     "execution_count": 8,
     "metadata": {},
     "output_type": "execute_result"
    }
   ],
   "source": [
    "# First system to solve\n",
    "# v1 + w1 = 3\n",
    "# v1 - w1 = 1\n",
    "\n",
    "a = np.array([[1, 1], [1, -1]])\n",
    "b = np.array([3, 1])\n",
    "x = np.linalg.solve(a, b)\n",
    "x"
   ]
  },
  {
   "cell_type": "code",
   "execution_count": 9,
   "metadata": {},
   "outputs": [
    {
     "data": {
      "text/plain": [
       "array([ 2., -1.])"
      ]
     },
     "execution_count": 9,
     "metadata": {},
     "output_type": "execute_result"
    }
   ],
   "source": [
    "# Second system to solve\n",
    "# v2 + w2 = 1\n",
    "# v2 - w2 = 3\n",
    "\n",
    "c = np.array([[1, 1], [1, -1]])\n",
    "d = np.array([1, 3])\n",
    "y = np.linalg.solve(c, d)\n",
    "y"
   ]
  },
  {
   "cell_type": "code",
   "execution_count": 10,
   "metadata": {},
   "outputs": [
    {
     "name": "stdout",
     "output_type": "stream",
     "text": [
      "v = [2. 2.]\n",
      "w = [ 1. -1.]\n"
     ]
    }
   ],
   "source": [
    "# solutions v and w\n",
    "v = np.array([x[0], y[0]])\n",
    "w = np.array([x[1], y[1]])\n",
    "print(f'v = {v}')\n",
    "print(f'w = {w}')"
   ]
  },
  {
   "cell_type": "code",
   "execution_count": 11,
   "metadata": {},
   "outputs": [
    {
     "data": {
      "text/plain": [
       "(-2, 4)"
      ]
     },
     "execution_count": 11,
     "metadata": {},
     "output_type": "execute_result"
    },
    {
     "data": {
      "image/png": "[encoded data removed]",
      "text/plain": [
       "<Figure size 360x360 with 1 Axes>"
      ]
     },
     "metadata": {
      "needs_background": "light"
     },
     "output_type": "display_data"
    }
   ],
   "source": [
    "fig, ax = plt.subplots(figsize=(5, 5))\n",
    "quiver2d(v, 'r')\n",
    "quiver2d(w, 'b')\n",
    "quiver2d_op(v, w, 'sum')\n",
    "quiver2d_op(v, w, 'substraction')\n",
    "format_plot()\n",
    "plt.xlim(-3, 5)\n",
    "plt.ylim(-2, 4)"
   ]
  },
  {
   "cell_type": "markdown",
   "metadata": {},
   "source": [
    "### Problem 1.4\n",
    "\n",
    "From `v=[2, 1]` and `w=[1, 2]`, find the components of `3v + w` and `v - 3w` and `cv + dw`"
   ]
  },
  {
   "cell_type": "code",
   "execution_count": 12,
   "metadata": {},
   "outputs": [],
   "source": [
    "v = np.array([2, 1])\n",
    "w = np.array([1, 2])"
   ]
  },
  {
   "cell_type": "code",
   "execution_count": 13,
   "metadata": {},
   "outputs": [
    {
     "name": "stdout",
     "output_type": "stream",
     "text": [
      "[7 5]\n",
      "[-1 -5]\n"
     ]
    }
   ],
   "source": [
    "# Solution\n",
    "print(3 * v + w)\n",
    "print(v - 3 * w)"
   ]
  },
  {
   "cell_type": "markdown",
   "metadata": {},
   "source": [
    "The 3rd part of the problem can be expressed as a vector:\n",
    "[[2c + d], [c + 2d]]\n",
    "And as a function that returns a vector, given the inputs `c` and `d`."
   ]
  },
  {
   "cell_type": "code",
   "execution_count": 14,
   "metadata": {},
   "outputs": [],
   "source": [
    "def problem_1_4(c: np.array, d: np.array) -> np.array:\n",
    "    return c * v + d * w"
   ]
  },
  {
   "cell_type": "code",
   "execution_count": 15,
   "metadata": {},
   "outputs": [
    {
     "name": "stdout",
     "output_type": "stream",
     "text": [
      "[7 5]\n",
      "[-1 -5]\n"
     ]
    }
   ],
   "source": [
    "# solution of problem 1.4.1 and 1.4.2 using a function:\n",
    "print(problem_1_4(3, 1))\n",
    "print(problem_1_4(1, -3))"
   ]
  },
  {
   "cell_type": "markdown",
   "metadata": {},
   "source": [
    "A more general approach would be to allow other vectors as input:"
   ]
  },
  {
   "cell_type": "code",
   "execution_count": 16,
   "metadata": {},
   "outputs": [],
   "source": [
    "def problem_1_4_general(c: np.array,\n",
    "                        d: np.array,\n",
    "                        v: np.array,\n",
    "                        w: np.array) -> np.array:\n",
    "    \"\"\" a general implementation of function problem_1_4\"\"\"\n",
    "    return c*v + d*w"
   ]
  },
  {
   "cell_type": "code",
   "execution_count": 17,
   "metadata": {},
   "outputs": [
    {
     "name": "stdout",
     "output_type": "stream",
     "text": [
      "[7 5]\n",
      "[-1 -5]\n"
     ]
    }
   ],
   "source": [
    "# solution of problem 1.4.1 and 1.4.2 using function problem_1_4_general:\n",
    "print(problem_1_4_general(3, 1, v, w))\n",
    "print(problem_1_4_general(1, -3, v, w))"
   ]
  },
  {
   "cell_type": "markdown",
   "metadata": {},
   "source": [
    "### Problem 1.5\n",
    "\n",
    "Compute u+v and u+v+w and 2u+2v+w when \n",
    "\n",
    "`u = [1, 2, 3]`  \n",
    "`v = [-3, 1, -2]`  \n",
    "`w = [2, -3, 1]`  "
   ]
  },
  {
   "cell_type": "code",
   "execution_count": 18,
   "metadata": {},
   "outputs": [
    {
     "name": "stdout",
     "output_type": "stream",
     "text": [
      "[0 0 2]\n",
      "[-2  3  3]\n"
     ]
    }
   ],
   "source": [
    "# solution\n",
    "def problem_1_5(a: int, b: int, c: int) -> np.array:\n",
    "    \"\"\" solution to problem 1.5 \"\"\"\n",
    "    u = np.array([1, 2, 3])\n",
    "    v = np.array([-3, 1, -2])\n",
    "    w = np.array([2, -3, 1])\n",
    "    return a * u + b * v + c * w\n",
    "\n",
    "print(problem_1_5(1, 1, 1))\n",
    "print(problem_1_5(2, 2, 1))"
   ]
  },
  {
   "cell_type": "code",
   "execution_count": 19,
   "metadata": {},
   "outputs": [
    {
     "name": "stdout",
     "output_type": "stream",
     "text": [
      "[0 0 2]\n",
      "[-2  3  3]\n"
     ]
    }
   ],
   "source": [
    "# alternative solution\n",
    "def problem_1_5_vector(vector: np.array) -> np.array:\n",
    "    \"\"\" solution to problem 1.5 using a numpy array as input \"\"\"\n",
    "    u = np.array([1, 2, 3])\n",
    "    v = np.array([-3, 1, -2])\n",
    "    w = np.array([2, -3, 1])\n",
    "    return (vector[0] * u + vector[1] * v + vector[2] * w )\n",
    "\n",
    "print(problem_1_5_vector(np.array([1, 1, 1])))\n",
    "print(problem_1_5_vector(np.array([2, 2, 1])))"
   ]
  },
  {
   "cell_type": "code",
   "execution_count": 20,
   "metadata": {},
   "outputs": [],
   "source": [
    "# TODO: general solution: define a function that uses a vector and\n",
    "# a matrix as inputs, and outputs a matrix\n",
    "# allowing arbitrary compatible dimensions, \n",
    "# example (1,3) and (3,3)\n"
   ]
  },
  {
   "cell_type": "markdown",
   "metadata": {},
   "source": [
    "### Problem 1.6\n",
    "\n",
    "Every combination of `v = [1, -2, 1]` and `w = [0, 1, -1]` has components that add to ____.\n",
    "\n",
    "Find c and d so that `cv + dw = [4, 2, -6]`\n",
    "\n",
    "** Solution **\n",
    "This is a system of 3 equations with 2 unknowns, c and d.\n",
    "\n",
    "`(1) c + 0d = 4`  \n",
    "`(2) -2c + d = 2`  \n",
    "`(3) c - d = -6`  \n",
    "\n",
    "This system might have a solution:\n",
    "\n",
    "`from (1), (4) c = 4`  \n",
    "`(4) and (3), 4 - d = -6`  \n",
    "`- d = -6 - 4`  \n",
    "`(5) d = 10`  \n",
    "\n",
    "`from (2) and (4) and (5):`  \n",
    "`-2c + d = 2`  \n",
    "`-2 * 4 + 10 = 2`  \n",
    "`-8 + 10 = 2`  \n",
    "\n",
    "As we can see, the system has only one solution:  \n",
    "**c = 4**  \n",
    "**d = 10**\n",
    "\n",
    "We can remove one equation from the system. "
   ]
  },
  {
   "cell_type": "code",
   "execution_count": 21,
   "metadata": {},
   "outputs": [
    {
     "data": {
      "text/plain": [
       "array([ 4., 10.])"
      ]
     },
     "execution_count": 21,
     "metadata": {},
     "output_type": "execute_result"
    }
   ],
   "source": [
    "# (1) c + 0d = 4`\n",
    "# (2) -2c + d = 2`\n",
    "\n",
    "a = np.array([[1, 0], [-2, 1],])\n",
    "b = np.array([4, 2])\n",
    "x = np.linalg.solve(a, b)\n",
    "x"
   ]
  },
  {
   "cell_type": "markdown",
   "metadata": {},
   "source": [
    "### Problem 1.7\n",
    "\n",
    "In the xy plane, mark all nine of these linear combinations:\n",
    "\n",
    "$c \\begin{bmatrix}3 \\\\ 1\\end{bmatrix} + d \\begin{bmatrix}0 \\\\ 1\\end{bmatrix}$\n",
    "\n",
    "with $c = 0, 1, 2$ and $d = 0, 1, 2$"
   ]
  },
  {
   "cell_type": "code",
   "execution_count": 111,
   "metadata": {},
   "outputs": [
    {
     "data": {
      "text/plain": [
       "Text(0.5, 1.0, 'Problem 1.7')"
      ]
     },
     "execution_count": 111,
     "metadata": {},
     "output_type": "execute_result"
    },
    {
     "data": {
      "image/png": "[encoded data removed]",
      "text/plain": [
       "<Figure size 576x576 with 1 Axes>"
      ]
     },
     "metadata": {
      "needs_background": "light"
     },
     "output_type": "display_data"
    }
   ],
   "source": [
    "# Solution\n",
    "\n",
    "# Generate all possible combinations\n",
    "x = np.array([3, 1])\n",
    "y = np.array([0, 1])\n",
    "c = np.array([0, 1, 2])\n",
    "d = np.array([0, 1, 2])\n",
    "\n",
    "# Number of possible combinations\n",
    "# ncombs = c.shape[0] * d.shape[0]\n",
    "\n",
    "fig, ax = plt.subplots(figsize=(8, 8))\n",
    "\n",
    "\n",
    "def generate_combs(x=x, y=y, c=c, d=d):\n",
    "    # color_pallete = sns.color_palette(\"hls\", c.shape[0] * d.shape[0])\n",
    "    color_pallete = sns.hls_palette(c.shape[0] * d.shape[0], l=.5, s=.9)\n",
    "    my_iter = iter(range(c.shape[0] * d.shape[0]))\n",
    "    for i in range(c.shape[0]):\n",
    "        for j in range(d.shape[0]):\n",
    "            # print(c[i] * x + d[j] * y)\n",
    "            color_index = next(my_iter)\n",
    "            fvector = c[i] * x + d[j] * y\n",
    "            quiver2d(fvector, color=color_pallete[color_index])\n",
    "\n",
    "\n",
    "format_plot(xlim=(-1, 8), ylim=(-1, 6))\n",
    "generate_combs(x, y, c, d)\n",
    "ax.set_title('Problem 1.7')"
   ]
  }
 ],
 "metadata": {
  "kernelspec": {
   "display_name": "Python 3.7.3 64-bit ('fede': conda)",
   "language": "python",
   "name": "python37364bitfedeconda536ee4711b9d4451a81385f13a21fbd2"
  },
  "language_info": {
   "codemirror_mode": {
    "name": "ipython",
    "version": 3
   },
   "file_extension": ".py",
   "mimetype": "text/x-python",
   "name": "python",
   "nbconvert_exporter": "python",
   "pygments_lexer": "ipython3",
   "version": "3.7.6"
  },
  "toc": {
   "base_numbering": 1,
   "nav_menu": {},
   "number_sections": true,
   "sideBar": true,
   "skip_h1_title": false,
   "title_cell": "Table of Contents",
   "title_sidebar": "Contents",
   "toc_cell": false,
   "toc_position": {},
   "toc_section_display": true,
   "toc_window_display": false
  }
 },
 "nbformat": 4,
 "nbformat_minor": 4
}
