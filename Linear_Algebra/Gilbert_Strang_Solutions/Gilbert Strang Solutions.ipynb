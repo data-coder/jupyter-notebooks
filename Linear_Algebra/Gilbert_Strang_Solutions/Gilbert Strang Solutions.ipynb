{
 "cells": [
  {
   "cell_type": "markdown",
   "metadata": {},
   "source": [
    "**Solutions to Selected Problems**"
   ]
  },
  {
   "cell_type": "code",
   "execution_count": 15,
   "metadata": {},
   "outputs": [],
   "source": [
    "import numpy as np\n",
    "import matplotlib.pyplot as plt\n",
    "import seaborn"
   ]
  },
  {
   "cell_type": "code",
   "execution_count": 38,
   "metadata": {},
   "outputs": [],
   "source": [
    "# Functions Definitions\n",
    "\n",
    "\n",
    "def quiver2d(fvector, color='black', ovector=np.array([0, 0])):\n",
    "    plt.quiver(ovector[0], ovector[1], fvector[0], fvector[1], color = color, units='xy', scale=1)\n",
    "    plt.annotate(f'{fvector}', (fvector[0], fvector[1]))\n",
    "\n",
    "\n",
    "def quiver2d_op(vector1, vector2, operation, color='black'):\n",
    "    if operation == 'sum':\n",
    "        result = np.array([vector1[0] + vector2[0], vector1[1] + vector2[1]])\n",
    "        plt.quiver(vector1[0], vector1[1], vector2[0], vector2[1], color = color, units='xy', scale=1)\n",
    "        plt.quiver(0, 0, result[0], result[1], color = 'grey', units='xy', scale=1, width=0.01, headwidth=1, headlength=0)\n",
    "        plt.annotate(f'sum={result}', (result[0], result[1]))\n",
    "    if operation == 'substraction':\n",
    "        result=np.array([vector1[0] - vector2[0], vector1[1] - vector2[1]])\n",
    "        plt.quiver(vector1[0], vector1[1], -vector2[0], -vector2[1], color = color, units='xy', scale=1)\n",
    "        plt.quiver(0, 0, result[0], result[1], color = 'grey', units='xy', scale=1, width=0.01, headwidth=1, headlength=0)\n",
    "        plt.annotate(f'substraction={result}',(result[0], result[1]))\n",
    "\n",
    "\n",
    "def format_plot():\n",
    "    ax.grid(True, which='both')\n",
    "    ax.set_aspect('equal')\n",
    "    ax.axhline(color='black')  # add horizontal axis line\n",
    "    ax.axvline(color='black')\n",
    "    seaborn.despine(ax=ax, offset=0)\n",
    "    # the following should be overriden\n",
    "    plt.xlim(-5, 5)\n",
    "    plt.ylim(-5, 5)\n",
    "\n"
   ]
  },
  {
   "cell_type": "markdown",
   "metadata": {},
   "source": [
    "# Chapter 1"
   ]
  },
  {
   "cell_type": "markdown",
   "metadata": {},
   "source": [
    "## 1.1\n",
    "\n",
    "(a) line (b) plane (c) same plane\n"
   ]
  },
  {
   "cell_type": "code",
   "execution_count": 2,
   "metadata": {},
   "outputs": [],
   "source": [
    "# TODO: draw 3d plots see mplot3d"
   ]
  },
  {
   "cell_type": "markdown",
   "metadata": {},
   "source": [
    "# 1.2"
   ]
  },
  {
   "cell_type": "code",
   "execution_count": 34,
   "metadata": {
    "scrolled": true
   },
   "outputs": [
    {
     "name": "stdout",
     "output_type": "stream",
     "text": [
      "[2 3]\n",
      "[ 6 -1]\n"
     ]
    }
   ],
   "source": [
    "v = np.array([4, 1])  # define a vector as a numpy array\n",
    "w = np.array([-2, 2])\n",
    "print(v + w)  # solution to 2.1\n",
    "print(v - w)  # solution to 2.2"
   ]
  },
  {
   "cell_type": "code",
   "execution_count": 35,
   "metadata": {},
   "outputs": [
    {
     "data": {
      "text/plain": [
       "(-3, 7)"
      ]
     },
     "execution_count": 35,
     "metadata": {},
     "output_type": "execute_result"
    },
    {
     "data": {
      "image/png": "[encoded data removed]",
      "text/plain": [
       "<Figure size 360x360 with 1 Axes>"
      ]
     },
     "metadata": {
      "needs_background": "light"
     },
     "output_type": "display_data"
    }
   ],
   "source": [
    "fig, ax = plt.subplots(figsize=(5, 5))\n",
    "quiver2d(v, 'r')\n",
    "quiver2d(w, 'b')\n",
    "quiver2d_op(v, w, 'sum')\n",
    "quiver2d_op(v, w, 'substraction')\n",
    "format_plot()\n",
    "plt.xlim(-3, 7)"
   ]
  },
  {
   "cell_type": "markdown",
   "metadata": {},
   "source": [
    "## Problem 1.3\n",
    "\n",
    "If `v+w=[3,1]` and `v-w=[1,3]`, compute and draw v and w."
   ]
  },
  {
   "cell_type": "markdown",
   "metadata": {},
   "source": [
    "# Solution:\n",
    "\n",
    "We have a system of 4 equations:w2 =\n",
    "`(1) v1 + w1 = 3\n",
    "(2) v1 - w1 = 1\n",
    "(3) v2 + w2 = 1\n",
    "(4) v2 - w2 = 3`\n",
    "\n",
    "The system can be easily solved using arithmetic. \n",
    "\n",
    "From (1) and (2): v1=2 w1=1\n",
    "From (3) and (4): v2=2 w2=1\n",
    "\n",
    "Solution:\n",
    "`v = [2,2]`\n",
    "`w= [1,-1]`\n",
    "\n",
    "For demostration purposes, we will use [numpy.linalg.solve](https://docs.scipy.org/doc/numpy/reference/generated/numpy.linalg.solve.html)"
   ]
  },
  {
   "cell_type": "code",
   "execution_count": 6,
   "metadata": {},
   "outputs": [
    {
     "name": "stdout",
     "output_type": "stream",
     "text": [
      "Help on function solve in module numpy.linalg:\n",
      "\n",
      "solve(a, b)\n",
      "    Solve a linear matrix equation, or system of linear scalar equations.\n",
      "    \n",
      "    Computes the \"exact\" solution, `x`, of the well-determined, i.e., full\n",
      "    rank, linear matrix equation `ax = b`.\n",
      "    \n",
      "    Parameters\n",
      "    ----------\n",
      "    a : (..., M, M) array_like\n",
      "        Coefficient matrix.\n",
      "    b : {(..., M,), (..., M, K)}, array_like\n",
      "        Ordinate or \"dependent variable\" values.\n",
      "    \n",
      "    Returns\n",
      "    -------\n",
      "    x : {(..., M,), (..., M, K)} ndarray\n",
      "        Solution to the system a x = b.  Returned shape is identical to `b`.\n",
      "    \n",
      "    Raises\n",
      "    ------\n",
      "    LinAlgError\n",
      "        If `a` is singular or not square.\n",
      "    \n",
      "    Notes\n",
      "    -----\n",
      "    \n",
      "    .. versionadded:: 1.8.0\n",
      "    \n",
      "    Broadcasting rules apply, see the `numpy.linalg` documentation for\n",
      "    details.\n",
      "    \n",
      "    The solutions are computed using LAPACK routine ``_gesv``.\n",
      "    \n",
      "    `a` must be square and of full-rank, i.e., all rows (or, equivalently,\n",
      "    columns) must be linearly independent; if either is not true, use\n",
      "    `lstsq` for the least-squares best \"solution\" of the\n",
      "    system/equation.\n",
      "    \n",
      "    References\n",
      "    ----------\n",
      "    .. [1] G. Strang, *Linear Algebra and Its Applications*, 2nd Ed., Orlando,\n",
      "           FL, Academic Press, Inc., 1980, pg. 22.\n",
      "    \n",
      "    Examples\n",
      "    --------\n",
      "    Solve the system of equations ``3 * x0 + x1 = 9`` and ``x0 + 2 * x1 = 8``:\n",
      "    \n",
      "    >>> a = np.array([[3,1], [1,2]])\n",
      "    >>> b = np.array([9,8])\n",
      "    >>> x = np.linalg.solve(a, b)\n",
      "    >>> x\n",
      "    array([2.,  3.])\n",
      "    \n",
      "    Check that the solution is correct:\n",
      "    \n",
      "    >>> np.allclose(np.dot(a, x), b)\n",
      "    True\n",
      "\n"
     ]
    }
   ],
   "source": [
    "help(np.linalg.solve)"
   ]
  },
  {
   "cell_type": "code",
   "execution_count": 7,
   "metadata": {},
   "outputs": [
    {
     "data": {
      "text/plain": [
       "array([2., 3.])"
      ]
     },
     "execution_count": 7,
     "metadata": {},
     "output_type": "execute_result"
    }
   ],
   "source": [
    "a = np.array([[3, 1], [1, 2]])\n",
    "b = np.array([9, 8])\n",
    "x = np.linalg.solve(a, b)\n",
    "x"
   ]
  },
  {
   "cell_type": "code",
   "execution_count": 8,
   "metadata": {},
   "outputs": [
    {
     "data": {
      "text/plain": [
       "array([2., 1.])"
      ]
     },
     "execution_count": 8,
     "metadata": {},
     "output_type": "execute_result"
    }
   ],
   "source": [
    "# First system to solve\n",
    "# v1 + w1 = 3\n",
    "# v1 - w1 = 1\n",
    "\n",
    "a = np.array([[1, 1], [1, -1]])\n",
    "b = np.array([3, 1])\n",
    "x = np.linalg.solve(a, b)\n",
    "x"
   ]
  },
  {
   "cell_type": "code",
   "execution_count": 9,
   "metadata": {},
   "outputs": [
    {
     "data": {
      "text/plain": [
       "array([ 2., -1.])"
      ]
     },
     "execution_count": 9,
     "metadata": {},
     "output_type": "execute_result"
    }
   ],
   "source": [
    "# Second system to solve\n",
    "# v2 + w2 = 1\n",
    "# v2 - w2 = 3\n",
    "\n",
    "c = np.array([[1, 1], [1, -1]])\n",
    "d = np.array([1, 3])\n",
    "y = np.linalg.solve(c, d)\n",
    "y"
   ]
  },
  {
   "cell_type": "code",
   "execution_count": 10,
   "metadata": {},
   "outputs": [
    {
     "name": "stdout",
     "output_type": "stream",
     "text": [
      "v = [2. 2.]\n",
      "w = [ 1. -1.]\n"
     ]
    }
   ],
   "source": [
    "# solutions v and w\n",
    "v = np.array([x[0], y[0]])\n",
    "w = np.array([x[1], y[1]])\n",
    "print(f'v = {v}')\n",
    "print(f'w = {w}')"
   ]
  },
  {
   "cell_type": "code",
   "execution_count": 11,
   "metadata": {},
   "outputs": [
    {
     "data": {
      "text/plain": [
       "(-2, 4)"
      ]
     },
     "execution_count": 11,
     "metadata": {},
     "output_type": "execute_result"
    },
    {
     "data": {
      "image/png": "[encoded data removed]",
      "text/plain": [
       "<Figure size 360x360 with 1 Axes>"
      ]
     },
     "metadata": {
      "needs_background": "light"
     },
     "output_type": "display_data"
    }
   ],
   "source": [
    "fig, ax = plt.subplots(figsize=(5, 5))\n",
    "quiver2d(v, 'r')\n",
    "quiver2d(w, 'b')\n",
    "quiver2d_op(v, w, 'sum')\n",
    "quiver2d_op(v, w, 'substraction')\n",
    "format_plot()\n",
    "plt.xlim(-3, 5)\n",
    "plt.ylim(-2, 4)"
   ]
  }
 ],
 "metadata": {
  "kernelspec": {
   "display_name": "Python 3.7.3 64-bit ('fede': conda)",
   "language": "python",
   "name": "python37364bitfedeconda536ee4711b9d4451a81385f13a21fbd2"
  },
  "language_info": {
   "codemirror_mode": {
    "name": "ipython",
    "version": 3
   },
   "file_extension": ".py",
   "mimetype": "text/x-python",
   "name": "python",
   "nbconvert_exporter": "python",
   "pygments_lexer": "ipython3",
   "version": "3.7.3"
  },
  "toc": {
   "base_numbering": 1,
   "nav_menu": {},
   "number_sections": true,
   "sideBar": true,
   "skip_h1_title": false,
   "title_cell": "Table of Contents",
   "title_sidebar": "Contents",
   "toc_cell": false,
   "toc_position": {},
   "toc_section_display": true,
   "toc_window_display": false
  }
 },
 "nbformat": 4,
 "nbformat_minor": 4
}
