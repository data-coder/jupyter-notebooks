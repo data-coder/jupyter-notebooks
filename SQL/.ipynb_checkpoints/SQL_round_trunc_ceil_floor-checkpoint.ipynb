{
 "cells": [
  {
   "cell_type": "code",
   "execution_count": 31,
   "metadata": {},
   "outputs": [
    {
     "name": "stdout",
     "output_type": "stream",
     "text": [
      "The sql extension is already loaded. To reload it, use:\n",
      "  %reload_ext sql\n"
     ]
    }
   ],
   "source": [
    "import getpass  # for password input\n",
    "import psycopg2 # for creting a new db, otherwise jupyter magic %sql will be used\n",
    "import numpy as np  # for creating random numbers\n",
    "from psycopg2 import sql\n",
    "from psycopg2.extensions import ISOLATION_LEVEL_AUTOCOMMIT # see http://initd.org/psycopg/docs/extensions.html#psycopg2.extensions.ISOLATION_LEVEL_AUTOCOMMIT\n",
    "%load_ext sql"
   ]
  },
  {
   "cell_type": "code",
   "execution_count": 2,
   "metadata": {},
   "outputs": [
    {
     "name": "stdin",
     "output_type": "stream",
     "text": [
      " ········\n"
     ]
    },
    {
     "name": "stdout",
     "output_type": "stream",
     "text": [
      "[sudo] password for fede: Starting postgresql (via systemctl): postgresql.service.\n"
     ]
    }
   ],
   "source": [
    "# start the local posrgres server\n",
    "command = \"/etc/init.d/postgresql start\" # command to run from shell use -S as it enables input from stdin\n",
    "!echo {getpass.getpass()}|sudo -S {command} # run the command using the sudo password"
   ]
  },
  {
   "cell_type": "code",
   "execution_count": 17,
   "metadata": {},
   "outputs": [
    {
     "name": "stdin",
     "output_type": "stream",
     "text": [
      "PostgreSQL password ········\n"
     ]
    }
   ],
   "source": [
    "# database test already exists on the server\n",
    "con = psycopg2.connect(dbname='test',\n",
    "      user='fede',host='localhost',\n",
    "      password= getpass.getpass('PostgreSQL password'))\n",
    "con.set_isolation_level(ISOLATION_LEVEL_AUTOCOMMIT) # this is to avoid an error `CREATE DATABASE cannot run inside a transaction block`\n",
    "cur = con.cursor()"
   ]
  },
  {
   "cell_type": "code",
   "execution_count": 28,
   "metadata": {},
   "outputs": [
    {
     "name": "stdout",
     "output_type": "stream",
     "text": [
      "('test',)\n",
      "('numbers',)\n",
      "('test2',)\n",
      "('test3',)\n",
      "('test4',)\n"
     ]
    }
   ],
   "source": [
    "# list all tables\n",
    "cur.execute(\"\"\"SELECT table_name FROM information_schema.tables WHERE table_schema = 'public'\"\"\")\n",
    "for table in cur.fetchall():\n",
    "    print(table)"
   ]
  },
  {
   "cell_type": "code",
   "execution_count": 29,
   "metadata": {},
   "outputs": [
    {
     "ename": "DuplicateTable",
     "evalue": "relation \"numbers\" already exists\n",
     "output_type": "error",
     "traceback": [
      "\u001b[0;31m---------------------------------------------------------------------------\u001b[0m",
      "\u001b[0;31mDuplicateTable\u001b[0m                            Traceback (most recent call last)",
      "\u001b[0;32m<ipython-input-29-03d1793eda61>\u001b[0m in \u001b[0;36m<module>\u001b[0;34m\u001b[0m\n\u001b[1;32m      3\u001b[0m \u001b[0mcreate\u001b[0m \u001b[0mtable\u001b[0m \u001b[0;34m\"numbers\"\u001b[0m \u001b[0;34m(\u001b[0m\u001b[0mnumber1\u001b[0m \u001b[0mint\u001b[0m\u001b[0;34m,\u001b[0m \u001b[0mnumber2\u001b[0m \u001b[0mint\u001b[0m\u001b[0;34m,\u001b[0m \u001b[0mnumber3\u001b[0m \u001b[0mint\u001b[0m\u001b[0;34m)\u001b[0m\u001b[0;34m;\u001b[0m\u001b[0;34m\u001b[0m\u001b[0;34m\u001b[0m\u001b[0m\n\u001b[1;32m      4\u001b[0m \"\"\"\n\u001b[0;32m----> 5\u001b[0;31m \u001b[0mcur\u001b[0m\u001b[0;34m.\u001b[0m\u001b[0mexecute\u001b[0m\u001b[0;34m(\u001b[0m\u001b[0mSQLCOMMAND\u001b[0m\u001b[0;34m)\u001b[0m\u001b[0;34m\u001b[0m\u001b[0;34m\u001b[0m\u001b[0m\n\u001b[0m",
      "\u001b[0;31mDuplicateTable\u001b[0m: relation \"numbers\" already exists\n"
     ]
    }
   ],
   "source": [
    "# create table\n",
    "SQLCOMMAND = \"\"\"\n",
    "create table \"numbers\" (number1 int, number2 int, number3 int);\n",
    "\"\"\"\n",
    "cur.execute(SQLCOMMAND)"
   ]
  },
  {
   "cell_type": "code",
   "execution_count": 109,
   "metadata": {},
   "outputs": [
    {
     "data": {
      "text/plain": [
       "array([[47, 89, 66],\n",
       "       [56, 77, 56],\n",
       "       [94,  8, 89],\n",
       "       [96, 36, 43]])"
      ]
     },
     "execution_count": 109,
     "metadata": {},
     "output_type": "execute_result"
    }
   ],
   "source": [
    "random_numbers = np.random.randint(0, 100, size=12)\n",
    "random_numbers.shape = (4, 3)\n",
    "random_numbers"
   ]
  },
  {
   "cell_type": "code",
   "execution_count": 115,
   "metadata": {},
   "outputs": [
    {
     "name": "stdout",
     "output_type": "stream",
     "text": [
      "4\n"
     ]
    }
   ],
   "source": [
    "print(random_numbers.shape[0])"
   ]
  },
  {
   "cell_type": "code",
   "execution_count": 121,
   "metadata": {},
   "outputs": [
    {
     "name": "stdout",
     "output_type": "stream",
     "text": [
      "89\n"
     ]
    }
   ],
   "source": [
    "print(random_numbers[0,1])"
   ]
  },
  {
   "cell_type": "code",
   "execution_count": 126,
   "metadata": {},
   "outputs": [
    {
     "name": "stdout",
     "output_type": "stream",
     "text": [
      "47\n",
      "89\n",
      "66\n",
      "56\n",
      "77\n",
      "56\n",
      "94\n",
      "8\n",
      "89\n",
      "96\n",
      "36\n",
      "43\n"
     ]
    }
   ],
   "source": [
    "for row in range(random_numbers.shape[0]):\n",
    "    for col in range(random_numbers.shape[1]):\n",
    "        # print (row,col)\n",
    "        print(random_numbers[row][col])"
   ]
  },
  {
   "cell_type": "code",
   "execution_count": 46,
   "metadata": {},
   "outputs": [],
   "source": [
    "SQLCOMMAND = \"\"\"\n",
    "insert into numbers (number1,number2,number3)\n",
    "values (1,2,3);\n",
    "\"\"\"\n",
    "cur.execute(sql.SQL(SQLCOMMAND))"
   ]
  },
  {
   "cell_type": "code",
   "execution_count": 47,
   "metadata": {},
   "outputs": [
    {
     "name": "stdout",
     "output_type": "stream",
     "text": [
      "[(1.0, 2.0, 3.0), (1.0, 2.0, 3.0)]\n"
     ]
    }
   ],
   "source": [
    "cur.execute(sql.SQL('select * from numbers'))\n",
    "print(cur.fetchall())"
   ]
  },
  {
   "cell_type": "code",
   "execution_count": 179,
   "metadata": {},
   "outputs": [
    {
     "name": "stdout",
     "output_type": "stream",
     "text": [
      "insert into numbers (number1,number2,number3) VALUES (47,89,66),(56,77,56),(94,8,89),(96,36,43)\n"
     ]
    }
   ],
   "source": [
    "# TODO: move to module\n",
    "SQLCOMMAND: str = 'insert into numbers (number1,number2,number3) VALUES '\n",
    "# values \"\"\"\n",
    "for row in range(random_numbers.shape[0]):\n",
    "    SQLCOMMAND += f'('\n",
    "    tempstr = ''\n",
    "    for col in range(random_numbers.shape[1]):\n",
    "        tempstr += fr'{random_numbers[row][col]},'\n",
    "    SQLCOMMAND += tempstr[:-1]\n",
    "    SQLCOMMAND += f'),'\n",
    "    # SQLCOMMAND = SQLCOMMAND[:-1]\n",
    "SQLCOMMAND = SQLCOMMAND[:-1]\n",
    "print(SQLCOMMAND)"
   ]
  },
  {
   "cell_type": "code",
   "execution_count": 180,
   "metadata": {},
   "outputs": [],
   "source": [
    "cur.execute(sql.SQL(SQLCOMMAND))"
   ]
  },
  {
   "cell_type": "code",
   "execution_count": 181,
   "metadata": {},
   "outputs": [
    {
     "data": {
      "text/plain": [
       "[(1.0, 2.0, 3.0),\n",
       " (1.0, 2.0, 3.0),\n",
       " (1.0, None, None),\n",
       " (47.0, 89.0, 66.0),\n",
       " (56.0, 77.0, 56.0),\n",
       " (47.0, 89.0, 66.0),\n",
       " (56.0, 77.0, 56.0),\n",
       " (94.0, 8.0, 89.0),\n",
       " (96.0, 36.0, 43.0)]"
      ]
     },
     "execution_count": 181,
     "metadata": {},
     "output_type": "execute_result"
    }
   ],
   "source": [
    "SQLCOMMAND = \"\"\"\n",
    "select * from numbers\n",
    "\"\"\"\n",
    "cur.execute(SQLCOMMAND)\n",
    "cur.fetchall()"
   ]
  }
 ],
 "metadata": {
  "kernelspec": {
   "display_name": "Python 3.7.3 64-bit ('fede': conda)",
   "language": "python",
   "name": "python37364bitfedeconda536ee4711b9d4451a81385f13a21fbd2"
  },
  "language_info": {
   "codemirror_mode": {
    "name": "ipython",
    "version": 3
   },
   "file_extension": ".py",
   "mimetype": "text/x-python",
   "name": "python",
   "nbconvert_exporter": "python",
   "pygments_lexer": "ipython3",
   "version": "3.7.6"
  }
 },
 "nbformat": 4,
 "nbformat_minor": 4
}
